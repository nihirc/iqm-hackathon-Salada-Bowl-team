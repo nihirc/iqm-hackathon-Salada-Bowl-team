{
  "cells": [
    {
      "cell_type": "markdown",
      "metadata": {
        "id": "F_-1EhAXJgJf"
      },
      "source": [
        "## Digital-analogue variational quantum eigensolver(DAVQE)\n"
      ]
    },
    {
      "cell_type": "code",
      "source": [
        "!pip install qiskit\n",
        "!pip install pylatexenc\n",
        "!pip install qiskit_nature\n",
        "!pip install qutip\n",
        "!pip install pyscf"
      ],
      "metadata": {
        "colab": {
          "base_uri": "https://localhost:8080/"
        },
        "id": "HS1zHGylJoCc",
        "outputId": "1d527aad-81c1-4cf7-a2d5-d39f726ceb60"
      },
      "execution_count": 1,
      "outputs": [
        {
          "output_type": "stream",
          "name": "stdout",
          "text": [
            "Looking in indexes: https://pypi.org/simple, https://us-python.pkg.dev/colab-wheels/public/simple/\n",
            "Collecting qiskit\n",
            "  Downloading qiskit-0.37.1.tar.gz (13 kB)\n",
            "Collecting qiskit-terra==0.21.1\n",
            "  Downloading qiskit_terra-0.21.1-cp37-cp37m-manylinux_2_17_x86_64.manylinux2014_x86_64.whl (6.7 MB)\n",
            "\u001b[K     |████████████████████████████████| 6.7 MB 5.2 MB/s \n",
            "\u001b[?25hCollecting qiskit-aer==0.10.4\n",
            "  Downloading qiskit_aer-0.10.4-cp37-cp37m-manylinux_2_12_x86_64.manylinux2010_x86_64.whl (18.0 MB)\n",
            "\u001b[K     |████████████████████████████████| 18.0 MB 250 kB/s \n",
            "\u001b[?25hCollecting qiskit-ibmq-provider==0.19.2\n",
            "  Downloading qiskit_ibmq_provider-0.19.2-py3-none-any.whl (240 kB)\n",
            "\u001b[K     |████████████████████████████████| 240 kB 45.0 MB/s \n",
            "\u001b[?25hRequirement already satisfied: numpy>=1.16.3 in /usr/local/lib/python3.7/dist-packages (from qiskit-aer==0.10.4->qiskit) (1.21.6)\n",
            "Requirement already satisfied: scipy>=1.0 in /usr/local/lib/python3.7/dist-packages (from qiskit-aer==0.10.4->qiskit) (1.7.3)\n",
            "Requirement already satisfied: requests>=2.19 in /usr/local/lib/python3.7/dist-packages (from qiskit-ibmq-provider==0.19.2->qiskit) (2.23.0)\n",
            "Collecting requests-ntlm>=1.1.0\n",
            "  Downloading requests_ntlm-1.1.0-py2.py3-none-any.whl (5.7 kB)\n",
            "Collecting websocket-client>=1.0.1\n",
            "  Downloading websocket_client-1.3.3-py3-none-any.whl (54 kB)\n",
            "\u001b[K     |████████████████████████████████| 54 kB 2.4 MB/s \n",
            "\u001b[?25hRequirement already satisfied: python-dateutil>=2.8.0 in /usr/local/lib/python3.7/dist-packages (from qiskit-ibmq-provider==0.19.2->qiskit) (2.8.2)\n",
            "Requirement already satisfied: urllib3>=1.21.1 in /usr/local/lib/python3.7/dist-packages (from qiskit-ibmq-provider==0.19.2->qiskit) (1.24.3)\n",
            "Collecting websockets>=10.0\n",
            "  Downloading websockets-10.3-cp37-cp37m-manylinux_2_5_x86_64.manylinux1_x86_64.manylinux_2_12_x86_64.manylinux2010_x86_64.whl (112 kB)\n",
            "\u001b[K     |████████████████████████████████| 112 kB 29.1 MB/s \n",
            "\u001b[?25hRequirement already satisfied: sympy>=1.3 in /usr/local/lib/python3.7/dist-packages (from qiskit-terra==0.21.1->qiskit) (1.7.1)\n",
            "Collecting tweedledum<2.0,>=1.1\n",
            "  Downloading tweedledum-1.1.1-cp37-cp37m-manylinux_2_12_x86_64.manylinux2010_x86_64.whl (943 kB)\n",
            "\u001b[K     |████████████████████████████████| 943 kB 37.7 MB/s \n",
            "\u001b[?25hRequirement already satisfied: dill>=0.3 in /usr/local/lib/python3.7/dist-packages (from qiskit-terra==0.21.1->qiskit) (0.3.5.1)\n",
            "Collecting stevedore>=3.0.0\n",
            "  Downloading stevedore-3.5.0-py3-none-any.whl (49 kB)\n",
            "\u001b[K     |████████████████████████████████| 49 kB 4.8 MB/s \n",
            "\u001b[?25hCollecting shared-memory38\n",
            "  Downloading shared_memory38-0.1.2-cp37-cp37m-manylinux_2_5_x86_64.manylinux1_x86_64.whl (25 kB)\n",
            "Requirement already satisfied: typing-extensions in /usr/local/lib/python3.7/dist-packages (from qiskit-terra==0.21.1->qiskit) (4.1.1)\n",
            "Collecting retworkx>=0.11.0\n",
            "  Downloading retworkx-0.11.0-cp37-cp37m-manylinux_2_5_x86_64.manylinux1_x86_64.manylinux_2_12_x86_64.manylinux2010_x86_64.whl (1.6 MB)\n",
            "\u001b[K     |████████████████████████████████| 1.6 MB 49.6 MB/s \n",
            "\u001b[?25hCollecting symengine>=0.9\n",
            "  Downloading symengine-0.9.2-cp37-cp37m-manylinux2010_x86_64.whl (37.5 MB)\n",
            "\u001b[K     |████████████████████████████████| 37.5 MB 1.3 MB/s \n",
            "\u001b[?25hRequirement already satisfied: psutil>=5 in /usr/local/lib/python3.7/dist-packages (from qiskit-terra==0.21.1->qiskit) (5.4.8)\n",
            "Collecting ply>=3.10\n",
            "  Downloading ply-3.11-py2.py3-none-any.whl (49 kB)\n",
            "\u001b[K     |████████████████████████████████| 49 kB 7.0 MB/s \n",
            "\u001b[?25hRequirement already satisfied: six>=1.5 in /usr/local/lib/python3.7/dist-packages (from python-dateutil>=2.8.0->qiskit-ibmq-provider==0.19.2->qiskit) (1.15.0)\n",
            "Requirement already satisfied: certifi>=2017.4.17 in /usr/local/lib/python3.7/dist-packages (from requests>=2.19->qiskit-ibmq-provider==0.19.2->qiskit) (2022.6.15)\n",
            "Requirement already satisfied: chardet<4,>=3.0.2 in /usr/local/lib/python3.7/dist-packages (from requests>=2.19->qiskit-ibmq-provider==0.19.2->qiskit) (3.0.4)\n",
            "Requirement already satisfied: idna<3,>=2.5 in /usr/local/lib/python3.7/dist-packages (from requests>=2.19->qiskit-ibmq-provider==0.19.2->qiskit) (2.10)\n",
            "Collecting cryptography>=1.3\n",
            "  Downloading cryptography-37.0.4-cp36-abi3-manylinux_2_24_x86_64.whl (4.1 MB)\n",
            "\u001b[K     |████████████████████████████████| 4.1 MB 41.5 MB/s \n",
            "\u001b[?25hCollecting ntlm-auth>=1.0.2\n",
            "  Downloading ntlm_auth-1.5.0-py2.py3-none-any.whl (29 kB)\n",
            "Requirement already satisfied: cffi>=1.12 in /usr/local/lib/python3.7/dist-packages (from cryptography>=1.3->requests-ntlm>=1.1.0->qiskit-ibmq-provider==0.19.2->qiskit) (1.15.1)\n",
            "Requirement already satisfied: pycparser in /usr/local/lib/python3.7/dist-packages (from cffi>=1.12->cryptography>=1.3->requests-ntlm>=1.1.0->qiskit-ibmq-provider==0.19.2->qiskit) (2.21)\n",
            "Collecting pbr!=2.1.0,>=2.0.0\n",
            "  Downloading pbr-5.10.0-py2.py3-none-any.whl (112 kB)\n",
            "\u001b[K     |████████████████████████████████| 112 kB 59.3 MB/s \n",
            "\u001b[?25hRequirement already satisfied: importlib-metadata>=1.7.0 in /usr/local/lib/python3.7/dist-packages (from stevedore>=3.0.0->qiskit-terra==0.21.1->qiskit) (4.12.0)\n",
            "Requirement already satisfied: zipp>=0.5 in /usr/local/lib/python3.7/dist-packages (from importlib-metadata>=1.7.0->stevedore>=3.0.0->qiskit-terra==0.21.1->qiskit) (3.8.1)\n",
            "Requirement already satisfied: mpmath>=0.19 in /usr/local/lib/python3.7/dist-packages (from sympy>=1.3->qiskit-terra==0.21.1->qiskit) (1.2.1)\n",
            "Building wheels for collected packages: qiskit\n",
            "  Building wheel for qiskit (setup.py) ... \u001b[?25l\u001b[?25hdone\n",
            "  Created wheel for qiskit: filename=qiskit-0.37.1-py3-none-any.whl size=12067 sha256=c9b67d1c41463f58ca5868390b0cdcd880b574db5354417ecfa7508c193db11e\n",
            "  Stored in directory: /root/.cache/pip/wheels/1c/3c/a3/bf8c2931e17937329c34a88b76cb88cbb7f9f2692fa7cfbcd1\n",
            "Successfully built qiskit\n",
            "Installing collected packages: pbr, tweedledum, symengine, stevedore, shared-memory38, retworkx, ply, ntlm-auth, cryptography, websockets, websocket-client, requests-ntlm, qiskit-terra, qiskit-ibmq-provider, qiskit-aer, qiskit\n",
            "Successfully installed cryptography-37.0.4 ntlm-auth-1.5.0 pbr-5.10.0 ply-3.11 qiskit-0.37.1 qiskit-aer-0.10.4 qiskit-ibmq-provider-0.19.2 qiskit-terra-0.21.1 requests-ntlm-1.1.0 retworkx-0.11.0 shared-memory38-0.1.2 stevedore-3.5.0 symengine-0.9.2 tweedledum-1.1.1 websocket-client-1.3.3 websockets-10.3\n",
            "Looking in indexes: https://pypi.org/simple, https://us-python.pkg.dev/colab-wheels/public/simple/\n",
            "Collecting pylatexenc\n",
            "  Downloading pylatexenc-2.10.tar.gz (162 kB)\n",
            "\u001b[K     |████████████████████████████████| 162 kB 5.0 MB/s \n",
            "\u001b[?25hBuilding wheels for collected packages: pylatexenc\n",
            "  Building wheel for pylatexenc (setup.py) ... \u001b[?25l\u001b[?25hdone\n",
            "  Created wheel for pylatexenc: filename=pylatexenc-2.10-py3-none-any.whl size=136835 sha256=98bd1fb5e98a2befeff75f47245531515b60e20746e670d19b2cc6e9469fc66f\n",
            "  Stored in directory: /root/.cache/pip/wheels/f1/8a/f5/33ee79d4473eb201b519fa40f989b842e373237395a3421f52\n",
            "Successfully built pylatexenc\n",
            "Installing collected packages: pylatexenc\n",
            "Successfully installed pylatexenc-2.10\n",
            "Looking in indexes: https://pypi.org/simple, https://us-python.pkg.dev/colab-wheels/public/simple/\n",
            "Collecting qiskit_nature\n",
            "  Downloading qiskit_nature-0.4.4-py3-none-any.whl (2.0 MB)\n",
            "\u001b[K     |████████████████████████████████| 2.0 MB 5.3 MB/s \n",
            "\u001b[?25hRequirement already satisfied: scipy>=1.4 in /usr/local/lib/python3.7/dist-packages (from qiskit_nature) (1.7.3)\n",
            "Requirement already satisfied: numpy>=1.17 in /usr/local/lib/python3.7/dist-packages (from qiskit_nature) (1.21.6)\n",
            "Requirement already satisfied: psutil>=5 in /usr/local/lib/python3.7/dist-packages (from qiskit_nature) (5.4.8)\n",
            "Requirement already satisfied: qiskit-terra>=0.21.0 in /usr/local/lib/python3.7/dist-packages (from qiskit_nature) (0.21.1)\n",
            "Requirement already satisfied: h5py in /usr/local/lib/python3.7/dist-packages (from qiskit_nature) (3.1.0)\n",
            "Requirement already satisfied: typing-extensions in /usr/local/lib/python3.7/dist-packages (from qiskit_nature) (4.1.1)\n",
            "Requirement already satisfied: retworkx>=0.10.1 in /usr/local/lib/python3.7/dist-packages (from qiskit_nature) (0.11.0)\n",
            "Requirement already satisfied: scikit-learn>=0.20.0 in /usr/local/lib/python3.7/dist-packages (from qiskit_nature) (1.0.2)\n",
            "Requirement already satisfied: setuptools>=40.1.0 in /usr/local/lib/python3.7/dist-packages (from qiskit_nature) (57.4.0)\n",
            "Requirement already satisfied: python-dateutil>=2.8.0 in /usr/local/lib/python3.7/dist-packages (from qiskit-terra>=0.21.0->qiskit_nature) (2.8.2)\n",
            "Requirement already satisfied: tweedledum<2.0,>=1.1 in /usr/local/lib/python3.7/dist-packages (from qiskit-terra>=0.21.0->qiskit_nature) (1.1.1)\n",
            "Requirement already satisfied: dill>=0.3 in /usr/local/lib/python3.7/dist-packages (from qiskit-terra>=0.21.0->qiskit_nature) (0.3.5.1)\n",
            "Requirement already satisfied: shared-memory38 in /usr/local/lib/python3.7/dist-packages (from qiskit-terra>=0.21.0->qiskit_nature) (0.1.2)\n",
            "Requirement already satisfied: ply>=3.10 in /usr/local/lib/python3.7/dist-packages (from qiskit-terra>=0.21.0->qiskit_nature) (3.11)\n",
            "Requirement already satisfied: sympy>=1.3 in /usr/local/lib/python3.7/dist-packages (from qiskit-terra>=0.21.0->qiskit_nature) (1.7.1)\n",
            "Requirement already satisfied: symengine>=0.9 in /usr/local/lib/python3.7/dist-packages (from qiskit-terra>=0.21.0->qiskit_nature) (0.9.2)\n",
            "Requirement already satisfied: stevedore>=3.0.0 in /usr/local/lib/python3.7/dist-packages (from qiskit-terra>=0.21.0->qiskit_nature) (3.5.0)\n",
            "Requirement already satisfied: six>=1.5 in /usr/local/lib/python3.7/dist-packages (from python-dateutil>=2.8.0->qiskit-terra>=0.21.0->qiskit_nature) (1.15.0)\n",
            "Requirement already satisfied: threadpoolctl>=2.0.0 in /usr/local/lib/python3.7/dist-packages (from scikit-learn>=0.20.0->qiskit_nature) (3.1.0)\n",
            "Requirement already satisfied: joblib>=0.11 in /usr/local/lib/python3.7/dist-packages (from scikit-learn>=0.20.0->qiskit_nature) (1.1.0)\n",
            "Requirement already satisfied: importlib-metadata>=1.7.0 in /usr/local/lib/python3.7/dist-packages (from stevedore>=3.0.0->qiskit-terra>=0.21.0->qiskit_nature) (4.12.0)\n",
            "Requirement already satisfied: pbr!=2.1.0,>=2.0.0 in /usr/local/lib/python3.7/dist-packages (from stevedore>=3.0.0->qiskit-terra>=0.21.0->qiskit_nature) (5.10.0)\n",
            "Requirement already satisfied: zipp>=0.5 in /usr/local/lib/python3.7/dist-packages (from importlib-metadata>=1.7.0->stevedore>=3.0.0->qiskit-terra>=0.21.0->qiskit_nature) (3.8.1)\n",
            "Requirement already satisfied: mpmath>=0.19 in /usr/local/lib/python3.7/dist-packages (from sympy>=1.3->qiskit-terra>=0.21.0->qiskit_nature) (1.2.1)\n",
            "Requirement already satisfied: cached-property in /usr/local/lib/python3.7/dist-packages (from h5py->qiskit_nature) (1.5.2)\n",
            "Installing collected packages: qiskit-nature\n",
            "Successfully installed qiskit-nature-0.4.4\n",
            "Looking in indexes: https://pypi.org/simple, https://us-python.pkg.dev/colab-wheels/public/simple/\n",
            "Collecting qutip\n",
            "  Downloading qutip-4.7.0-cp37-cp37m-manylinux_2_5_x86_64.manylinux1_x86_64.manylinux_2_12_x86_64.manylinux2010_x86_64.whl (14.7 MB)\n",
            "\u001b[K     |████████████████████████████████| 14.7 MB 4.9 MB/s \n",
            "\u001b[?25hRequirement already satisfied: packaging in /usr/local/lib/python3.7/dist-packages (from qutip) (21.3)\n",
            "Requirement already satisfied: numpy>=1.16.6 in /usr/local/lib/python3.7/dist-packages (from qutip) (1.21.6)\n",
            "Requirement already satisfied: scipy>=1.0 in /usr/local/lib/python3.7/dist-packages (from qutip) (1.7.3)\n",
            "Requirement already satisfied: pyparsing!=3.0.5,>=2.0.2 in /usr/local/lib/python3.7/dist-packages (from packaging->qutip) (3.0.9)\n",
            "Installing collected packages: qutip\n",
            "Successfully installed qutip-4.7.0\n",
            "Looking in indexes: https://pypi.org/simple, https://us-python.pkg.dev/colab-wheels/public/simple/\n",
            "Collecting pyscf\n",
            "  Downloading pyscf-2.0.1-cp37-cp37m-manylinux1_x86_64.whl (37.5 MB)\n",
            "\u001b[K     |████████████████████████████████| 37.5 MB 297 kB/s \n",
            "\u001b[?25hRequirement already satisfied: numpy!=1.16,!=1.17,>=1.13 in /usr/local/lib/python3.7/dist-packages (from pyscf) (1.21.6)\n",
            "Requirement already satisfied: scipy!=1.5.0,!=1.5.1 in /usr/local/lib/python3.7/dist-packages (from pyscf) (1.7.3)\n",
            "Requirement already satisfied: h5py>=2.7 in /usr/local/lib/python3.7/dist-packages (from pyscf) (3.1.0)\n",
            "Requirement already satisfied: cached-property in /usr/local/lib/python3.7/dist-packages (from h5py>=2.7->pyscf) (1.5.2)\n",
            "Installing collected packages: pyscf\n",
            "Successfully installed pyscf-2.0.1\n"
          ]
        }
      ]
    },
    {
      "cell_type": "code",
      "execution_count": 2,
      "metadata": {
        "ExecuteTime": {
          "end_time": "2022-08-15T07:10:57.834702Z",
          "start_time": "2022-08-15T07:10:56.976256Z"
        },
        "id": "PEl1GjPUJgJk"
      },
      "outputs": [],
      "source": [
        "from DA_VQE import *"
      ]
    },
    {
      "cell_type": "markdown",
      "metadata": {
        "id": "d57P6Dy1JgJl"
      },
      "source": [
        "This notebook is aimed to solve the ground state energy of the hydrogen molecule by using Digital-analogue variational quantum eigensolver(DA-VQE). In conventional VQE, entanglement of qubits is performed by the digital control gates such as CX gates.\n",
        "\n",
        "DA-VQE, on the other hand, employs a time-evolution operator $U(t) = e^{iH't}$. $H'$ usually consists of the two-spin interactions, which is distinct from the target Hamiltonian $H$ for optimization.\n",
        "\n",
        "\n",
        "First, we define the two-qubit hamiltonian $H$."
      ]
    },
    {
      "cell_type": "code",
      "execution_count": 4,
      "metadata": {
        "scrolled": true,
        "colab": {
          "base_uri": "https://localhost:8080/"
        },
        "id": "EK4M0AeLJgJl",
        "outputId": "c4d5e285-c6cf-4591-848c-149e5f95a87c"
      },
      "outputs": [
        {
          "output_type": "stream",
          "name": "stdout",
          "text": [
            "The atomic distance is  1.545 Å\n"
          ]
        },
        {
          "output_type": "stream",
          "name": "stderr",
          "text": [
            "/usr/local/lib/python3.7/dist-packages/qiskit_nature/problems/second_quantization/electronic/electronic_structure_problem.py:93: ListAuxOpsDeprecationWarning: List-based `aux_operators` are deprecated as of version 0.3.0 and support for them will be removed no sooner than 3 months after the release. Instead, use dict-based `aux_operators`. You can switch to the dict-based interface immediately, by setting `qiskit_nature.settings.dict_aux_operators` to `True`.\n",
            "  second_quantized_ops = self._grouped_property_transformed.second_q_ops()\n"
          ]
        },
        {
          "output_type": "stream",
          "name": "stdout",
          "text": [
            "Number of qubits: 4\n",
            "Bonding energy value: -8.89100\n",
            "Total energy: -7.86347\n"
          ]
        }
      ],
      "source": [
        "LiH_op, LiH_problem, LiH_converter = load_Molecule(\"LiH\")\n",
        "print(f'Number of qubits: {LiH_op.num_qubits}')\n",
        "ref_value = energy_solver(LiH_op)\n",
        "print(f'Bonding energy value: {ref_value:.5f}')\n",
        "ref_value = total_energy_solver(LiH_problem, LiH_converter)\n",
        "print(f'Total energy: {ref_value:.5f}')"
      ]
    },
    {
      "cell_type": "code",
      "execution_count": 3,
      "metadata": {
        "ExecuteTime": {
          "end_time": "2022-08-15T06:02:07.990340Z",
          "start_time": "2022-08-15T06:02:07.984585Z"
        },
        "id": "YXtdmSWnJgJp"
      },
      "outputs": [],
      "source": [
        "seed = 175\n",
        "iterations = 125\n",
        "algorithm_globals.random_seed = seed\n",
        "backend = Aer.get_backend('aer_simulator')\n",
        "qi = QuantumInstance(backend=backend, seed_simulator=seed, seed_transpiler=seed,shots=8192) "
      ]
    },
    {
      "cell_type": "markdown",
      "metadata": {
        "id": "7B8NuHlZJgJp"
      },
      "source": [
        "## Time-evolution operator $U(t)$\n",
        "Note that this time-evolving Hamiltonian is not the Hamiltonian we want to optimize. (non-commutative with the target Hamiltonian for optimizing)<- This might be wrong!\n",
        "\n",
        "\n",
        "The ground state wave function is an eigenstate of the optimizing hamiltonian with the eigenvalue $E_0$. Then, the time evolving operator $U(t) = e^{iH't}$ acting on the ground state part only gets the phase. We want, on the other hand, the hopping between the energy states so the coefficients <GS|ψ(θ)> becomes maximum."
      ]
    },
    {
      "cell_type": "code",
      "execution_count": 5,
      "metadata": {
        "ExecuteTime": {
          "end_time": "2022-08-15T06:02:09.411048Z",
          "start_time": "2022-08-15T06:02:09.389149Z"
        },
        "id": "QOapqEpOJgJq"
      },
      "outputs": [],
      "source": [
        "from numbers import Number\n",
        "import numpy\n",
        "\n",
        "from qiskit.circuit import Gate, QuantumCircuit, QuantumRegister, ParameterExpression\n",
        "from qiskit.quantum_info.operators.predicates import matrix_equal\n",
        "from qiskit.quantum_info.operators.predicates import is_hermitian_matrix\n",
        "from qiskit.extensions.exceptions import ExtensionError\n",
        "from qiskit.circuit.exceptions import CircuitError\n",
        "\n",
        "from qiskit.circuit import Parameter, QuantumCircuit, QuantumRegister, ParameterVector\n",
        "\n",
        "\n",
        "from qiskit.extensions.unitary import UnitaryGate\n",
        "\n",
        "# This code is based on https://github.com/Qiskit/qiskit-terra/blob/main/qiskit/extensions/hamiltonian_gate.py licenced under Apache licence.\n",
        "class CustomHamiltonianGate(Gate):\n",
        "    def __init__(self, time, num_qubits, connectivity, h_coeffs, label=None):\n",
        "        if isinstance(time, Number) and time != numpy.real(time):\n",
        "            raise ExtensionError(\"Evolution time is not real.\")\n",
        "       \n",
        "        self.num_qubits = num_qubits\n",
        "        self.connectivity = connectivity\n",
        "        self.h_coeff1 = h_coeffs[0]\n",
        "        self.h_coeff2 = h_coeffs[1]\n",
        "        self.h_coeff3 = h_coeffs[2]\n",
        "        # Store instruction params\n",
        "        super().__init__(\"custom_hamiltonian\", num_qubits, [time, num_qubits, connectivity, h_coeffs[0], h_coeffs[1], h_coeffs[2]], label=label)\n",
        "        # note that params[0] is time, params[1] is num_qubits, params[2] is connectivity\n",
        "        # params[3] is h_coeff1, params[4] is h_coeff2, params[5] is h_coeff3\n",
        "\n",
        "    def __array__(self, dtype=None):\n",
        "        \"\"\"Return matrix for the unitary.\"\"\"\n",
        "        # pylint: disable=unused-argument\n",
        "        import scipy.linalg\n",
        "\n",
        "        try:\n",
        "            return scipy.linalg.expm(-1j * self.get_ham() * float(self.params[0]))\n",
        "        except TypeError as ex:\n",
        "            raise TypeError(\n",
        "                \"Unable to generate Unitary matrix for \"\n",
        "                \"unbound t parameter {}\".format(self.params[1])\n",
        "            ) from ex\n",
        "\n",
        "    def _define(self):\n",
        "        \"\"\"Calculate a subcircuit that implements this unitary.\"\"\"\n",
        "        q = QuantumRegister(self.num_qubits, \"q\")\n",
        "        qc = QuantumCircuit(q, name=self.name)\n",
        "        qc._append(UnitaryGate(self.to_matrix()), q[:], [])\n",
        "        self.definition = qc\n",
        "\n",
        "    def validate_parameter(self, parameter):\n",
        "        return parameter\n",
        "\n",
        "    def get_ham(self):\n",
        "        dim = 2 ** self.num_qubits\n",
        "        num_connections = len(self.connectivity)\n",
        "        zz_hamiltonian = np.zeros([dim, dim], dtype=np.complex128)\n",
        "        xx_hamiltonian = np.zeros([dim, dim], dtype=np.complex128)   # modification to add sigma_x interactions\n",
        "        yy_hamiltonian = np.zeros([dim, dim], dtype=np.complex128)   # modification to add sigma_y interactions\n",
        "\n",
        "        for c in range(num_connections):\n",
        "            ops_to_tensor = [qt.identity(2)] * self.num_qubits\n",
        "            ops_to_tensor[self.connectivity[c][0]] = qt.sigmaz()\n",
        "            ops_to_tensor[self.connectivity[c][1]] = qt.sigmaz()\n",
        "            zz_hamiltonian += float(self.params[3]) * np.array(qt.tensor(ops_to_tensor)) #+= \n",
        "        # repeat for xx and yy interaction hamiltonian. Note that we will change the params[] index    \n",
        "        for c in range(num_connections):\n",
        "            ops_to_tensor = [qt.identity(2)] * self.num_qubits\n",
        "            ops_to_tensor[self.connectivity[c][0]] = qt.sigmax()\n",
        "            ops_to_tensor[self.connectivity[c][1]] = qt.sigmax()\n",
        "            xx_hamiltonian += float(self.params[4]) * np.array(qt.tensor(ops_to_tensor)) \n",
        "        for c in range(num_connections):\n",
        "            ops_to_tensor = [qt.identity(2)] * self.num_qubits\n",
        "            ops_to_tensor[self.connectivity[c][0]] = qt.sigmay()\n",
        "            ops_to_tensor[self.connectivity[c][1]] = qt.sigmay()\n",
        "            yy_hamiltonian += float(self.params[5]) * np.array(qt.tensor(ops_to_tensor)) \n",
        "            # now assemble the full hamiltonian\n",
        "        hamiltonian = zz_hamiltonian + xx_hamiltonian + yy_hamiltonian    \n",
        "        return hamiltonian\n",
        "\n",
        "def custom_hamiltonian(self, time, connectivity, h_coeffs, qubits, label=None):\n",
        "    \"\"\"Apply hamiltonian evolution to qubits.\"\"\"\n",
        "    if not isinstance(qubits, list):\n",
        "        qubits = [qubits]\n",
        "\n",
        "    return self.append(CustomHamiltonianGate(time=time, num_qubits=len(qubits), connectivity=connectivity, h_coeffs = h_coeffs, label=label), qubits, [])\n",
        "\n",
        "\n",
        "QuantumCircuit.custom_hamiltonian = custom_hamiltonian"
      ]
    },
    {
      "cell_type": "markdown",
      "metadata": {
        "id": "sRnixVfiJgJr"
      },
      "source": [
        "Another option would be to create your own ansatz instead of using on of the predefined ones like TwoLocal. This is especially handy when you want to create an ansatz with analog blocks later."
      ]
    },
    {
      "cell_type": "code",
      "execution_count": 6,
      "metadata": {
        "id": "Wns_dhEKJgJr"
      },
      "outputs": [],
      "source": [
        "def digital_analogue_ansatz(Operator, entanglement = \"entire\"):\n",
        "    # First we need to define variational parameters (at least one) phi[...]\n",
        "    n_qubits = Operator.num_qubits\n",
        "    phi = ParameterVector(\"$\\phi$\", 4 * n_qubits)\n",
        "    \n",
        "    if entanglement == \"entire\":\n",
        "        t = Parameter(\"t\")\n",
        "        psi = ParameterVector(\"$\\psi$\",3)\n",
        "        connectivity_arr = []\n",
        "        qubits_arr = [0]\n",
        "        for i in range(n_qubits - 1):\n",
        "            connectivity_arr.append([i, i+1])\n",
        "            qubits_arr.append(i+1)\n",
        "    \n",
        "    if entanglement == \"staggered\":\n",
        "        psi = ParameterVector(\"$\\psi$\",3*(n_qubits - 1))\n",
        "        \n",
        "    # Create a quantum circuit that is used for the ansatz\n",
        "    ansatz = QuantumCircuit(n_qubits)\n",
        "    #circuit\n",
        "    for i in range(n_qubits):\n",
        "        ansatz.rx(phi[2*i], i)\n",
        "        ansatz.rz(phi[2*i+1], i)\n",
        "    if entanglement == \"entire\":\n",
        "        ansatz.custom_hamiltonian(connectivity=connectivity_arr, h_coeffs=psi, time=t , qubits=qubits_arr,label='analog block')\n",
        "    if entanglement == \"staggered\":\n",
        "        for i in range(n_qubits - 1):\n",
        "            ansatz.custom_hamiltonian(connectivity=[[0, 1]], h_coeffs= psi[3*i:3*i+3], time=1, qubits=[i,i+1], label='$U_{}(t)$'.format(i))\n",
        "    ##\n",
        "    for i in range(n_qubits):\n",
        "        ansatz.rz(phi[2*n_qubits+2*i], i)\n",
        "        ansatz.rx(phi[2*n_qubits+2*i+1], i)\n",
        "        \n",
        "    if entanglement == \"entire\":\n",
        "        ansatz.bind_parameters({t: 0.3})\n",
        "        ansatz.bind_parameters({psi[0]: 0.3})\n",
        "        ansatz.bind_parameters({psi[1]: 0.3})\n",
        "        ansatz.bind_parameters({psi[2]: 0.3})\n",
        "    if entanglement == \"staggered\":\n",
        "        for i in range(n_qubits -1):\n",
        "            ansatz.bind_parameters({psi[i]: 0.3})\n",
        "    return ansatz"
      ]
    },
    {
      "cell_type": "code",
      "execution_count": 8,
      "metadata": {
        "id": "41hOgeVfJgJt"
      },
      "outputs": [],
      "source": [
        "def find_E0(Operator, initial_pt, OPTIMIZER = SPSA(maxiter=iterations),entanglement=\"entire\"):\n",
        "    cirq = digital_analogue_ansatz(Operator, entanglement)\n",
        "    #OPTIMIZER = SLSQP(maxiter=1000) # in the absence of noise we use SLSQP\n",
        "    #hist-data\n",
        "    counts = []\n",
        "    values = []\n",
        "    def store_intermediate_result(eval_count, parameters, mean, std):\n",
        "        counts.append(eval_count)\n",
        "        values.append(mean)\n",
        "    vqe = VQE(cirq, optimizer=OPTIMIZER, initial_point=initial_pt, callback=store_intermediate_result, quantum_instance=qi, include_custom=True)\n",
        "    result = vqe.compute_minimum_eigenvalue(operator=Operator)\n",
        "    hist = (values, counts)\n",
        "    return result, hist"
      ]
    },
    {
      "cell_type": "code",
      "source": [
        "distances = np.arange(0.5, 3.0, 0.2)\n",
        "result_entire_list = []\n",
        "hist_entire_list = []\n",
        "result_st_list = []\n",
        "hist_st_list = []\n",
        "exact_energy_list = []\n",
        "\n",
        "for dis in distances:\n",
        "  print(\"distance: {} started\".format(dis))\n",
        "  LiH_op, LiH_problem, LiH_converter = load_Molecule(\"LiH\", dis)\n",
        "  exact_energy_list.append(total_energy_solver(LiH_problem, LiH_converter))\n",
        "  result, hist = find_E0(LiH_op, np.random.uniform(low=0.5, high=2.0, size=(20,)),SLSQP(maxiter=1000))\n",
        "  result_entire_list.append(result)\n",
        "  hist_entire_list.append(hist)\n",
        "  result, hist = find_E0(LiH_op, np.random.uniform(low=0.5, high=2.0, size=(25,)),SLSQP(maxiter=1000),entanglement=\"staggered\")\n",
        "  result_st_list.append(result)\n",
        "  hist_st_list.append(hist)"
      ],
      "metadata": {
        "colab": {
          "base_uri": "https://localhost:8080/"
        },
        "id": "C7gCbD9AjjAf",
        "outputId": "2a4265e4-81f2-4805-95c5-afbf22d3b4eb"
      },
      "execution_count": 11,
      "outputs": [
        {
          "output_type": "stream",
          "name": "stdout",
          "text": [
            "distance: 0.5 started\n",
            "distance: 0.7 started\n",
            "distance: 0.8999999999999999 started\n",
            "distance: 1.0999999999999999 started\n",
            "distance: 1.2999999999999998 started\n",
            "distance: 1.4999999999999998 started\n",
            "distance: 1.6999999999999997 started\n",
            "distance: 1.8999999999999997 started\n",
            "distance: 2.0999999999999996 started\n",
            "distance: 2.3 started\n",
            "distance: 2.4999999999999996 started\n",
            "distance: 2.6999999999999993 started\n",
            "distance: 2.8999999999999995 started\n"
          ]
        }
      ]
    },
    {
      "cell_type": "code",
      "source": [
        "total_entire = []\n",
        "total_st = []\n",
        "for i in range(len(distances)):\n",
        "  LiH_op, LiH_problem, LiH_converter = load_Molecule(\"LiH\", distances[i])\n",
        "  vqe_result = LiH_problem.interpret(result_entire_list[i]).total_energies[0].real\n",
        "  total_entire.append(vqe_result)\n",
        "  vqe_result = LiH_problem.interpret(result_st_list[i]).total_energies[0].real\n",
        "  total_st.append(vqe_result)"
      ],
      "metadata": {
        "id": "xUUHOxThlmgT"
      },
      "execution_count": 12,
      "outputs": []
    },
    {
      "cell_type": "code",
      "source": [
        "import matplotlib.pyplot as plt\n",
        "plt.figure(figsize=(8,8))\n",
        "plt.plot(distances, total_entire,\".\",label=\"Entire ansatz\")\n",
        "plt.plot(distances, total_st,\".\",label=\"Staggered ansatz\")\n",
        "plt.plot(distances, exact_energy_list,\":\",label=\"Exact energy\")\n",
        "plt.xlabel(\"Atomic distance(Å)\",fontsize=18)\n",
        "plt.ylabel(\"Energy\",fontsize=18)\n",
        "plt.title(\"DA-VQE of LiH\",fontsize=16)\n",
        "plt.legend()"
      ],
      "metadata": {
        "colab": {
          "base_uri": "https://localhost:8080/",
          "height": 541
        },
        "id": "CDJPLz1rtTSz",
        "outputId": "7a43c249-8b99-4034-e592-a4d153b8f10e"
      },
      "execution_count": 23,
      "outputs": [
        {
          "output_type": "execute_result",
          "data": {
            "text/plain": [
              "<matplotlib.legend.Legend at 0x7fb4901b3bd0>"
            ]
          },
          "metadata": {},
          "execution_count": 23
        },
        {
          "output_type": "display_data",
          "data": {
            "text/plain": [
              "<Figure size 576x576 with 1 Axes>"
            ],
            "image/png": "[encoded data removed]"
          },
          "metadata": {
            "needs_background": "light"
          }
        }
      ]
    },
    {
      "cell_type": "code",
      "source": [
        ""
      ],
      "metadata": {
        "id": "yTdkAb56tlxE"
      },
      "execution_count": null,
      "outputs": []
    }
  ],
  "metadata": {
    "hide_input": false,
    "kernelspec": {
      "display_name": "Python 3",
      "language": "python",
      "name": "python3"
    },
    "language_info": {
      "codemirror_mode": {
        "name": "ipython",
        "version": 3
      },
      "file_extension": ".py",
      "mimetype": "text/x-python",
      "name": "python",
      "nbconvert_exporter": "python",
      "pygments_lexer": "ipython3",
      "version": "3.8.8"
    },
    "nbTranslate": {
      "displayLangs": [
        "*"
      ],
      "hotkey": "alt-t",
      "langInMainMenu": true,
      "sourceLang": "en",
      "targetLang": "fr",
      "useGoogleTranslate": true
    },
    "toc": {
      "base_numbering": 1,
      "nav_menu": {},
      "number_sections": true,
      "sideBar": true,
      "skip_h1_title": false,
      "title_cell": "Table of Contents",
      "title_sidebar": "Contents",
      "toc_cell": false,
      "toc_position": {},
      "toc_section_display": true,
      "toc_window_display": false
    },
    "varInspector": {
      "cols": {
        "lenName": 16,
        "lenType": 16,
        "lenVar": 40
      },
      "kernels_config": {
        "python": {
          "delete_cmd_postfix": "",
          "delete_cmd_prefix": "del ",
          "library": "var_list.py",
          "varRefreshCmd": "print(var_dic_list())"
        },
        "r": {
          "delete_cmd_postfix": ") ",
          "delete_cmd_prefix": "rm(",
          "library": "var_list.r",
          "varRefreshCmd": "cat(var_dic_list()) "
        }
      },
      "types_to_exclude": [
        "module",
        "function",
        "builtin_function_or_method",
        "instance",
        "_Feature"
      ],
      "window_display": false
    },
    "vscode": {
      "interpreter": {
        "hash": "aee8b7b246df8f9039afb4144a1f6fd8d2ca17a180786b69acc140d282b71a49"
      }
    },
    "colab": {
      "name": "DA_VQE_LiH.ipynb",
      "provenance": [],
      "collapsed_sections": []
    }
  },
  "nbformat": 4,
  "nbformat_minor": 0
}