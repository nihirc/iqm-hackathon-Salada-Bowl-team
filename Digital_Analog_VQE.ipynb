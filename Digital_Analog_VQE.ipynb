{
 "cells": [
  {
   "cell_type": "markdown",
   "metadata": {
    "id": "F_-1EhAXJgJf"
   },
   "source": [
    "## Digital-analog variational quantum eigensolver(DAVQE)\n"
   ]
  },
  {
   "cell_type": "code",
   "execution_count": 1,
   "metadata": {
    "colab": {
     "base_uri": "https://localhost:8080/"
    },
    "id": "HS1zHGylJoCc",
    "outputId": "67dc3505-97d7-479e-84e8-4bdf4840a95a"
   },
   "outputs": [
    {
     "name": "stdout",
     "output_type": "stream",
     "text": [
      "Looking in indexes: https://pypi.org/simple, https://us-python.pkg.dev/colab-wheels/public/simple/\n",
      "Collecting qiskit\n",
      "  Downloading qiskit-0.37.1.tar.gz (13 kB)\n",
      "Collecting qiskit-terra==0.21.1\n",
      "  Downloading qiskit_terra-0.21.1-cp37-cp37m-manylinux_2_17_x86_64.manylinux2014_x86_64.whl (6.7 MB)\n",
      "\u001b[K     |████████████████████████████████| 6.7 MB 5.3 MB/s \n",
      "\u001b[?25hCollecting qiskit-aer==0.10.4\n",
      "  Downloading qiskit_aer-0.10.4-cp37-cp37m-manylinux_2_12_x86_64.manylinux2010_x86_64.whl (18.0 MB)\n",
      "\u001b[K     |████████████████████████████████| 18.0 MB 370 kB/s \n",
      "\u001b[?25hCollecting qiskit-ibmq-provider==0.19.2\n",
      "  Downloading qiskit_ibmq_provider-0.19.2-py3-none-any.whl (240 kB)\n",
      "\u001b[K     |████████████████████████████████| 240 kB 53.4 MB/s \n",
      "\u001b[?25hRequirement already satisfied: numpy>=1.16.3 in /usr/local/lib/python3.7/dist-packages (from qiskit-aer==0.10.4->qiskit) (1.21.6)\n",
      "Requirement already satisfied: scipy>=1.0 in /usr/local/lib/python3.7/dist-packages (from qiskit-aer==0.10.4->qiskit) (1.7.3)\n",
      "Requirement already satisfied: requests>=2.19 in /usr/local/lib/python3.7/dist-packages (from qiskit-ibmq-provider==0.19.2->qiskit) (2.23.0)\n",
      "Collecting websocket-client>=1.0.1\n",
      "  Downloading websocket_client-1.3.3-py3-none-any.whl (54 kB)\n",
      "\u001b[K     |████████████████████████████████| 54 kB 2.8 MB/s \n",
      "\u001b[?25hRequirement already satisfied: urllib3>=1.21.1 in /usr/local/lib/python3.7/dist-packages (from qiskit-ibmq-provider==0.19.2->qiskit) (1.24.3)\n",
      "Collecting requests-ntlm>=1.1.0\n",
      "  Downloading requests_ntlm-1.1.0-py2.py3-none-any.whl (5.7 kB)\n",
      "Requirement already satisfied: python-dateutil>=2.8.0 in /usr/local/lib/python3.7/dist-packages (from qiskit-ibmq-provider==0.19.2->qiskit) (2.8.2)\n",
      "Collecting websockets>=10.0\n",
      "  Downloading websockets-10.3-cp37-cp37m-manylinux_2_5_x86_64.manylinux1_x86_64.manylinux_2_12_x86_64.manylinux2010_x86_64.whl (112 kB)\n",
      "\u001b[K     |████████████████████████████████| 112 kB 46.9 MB/s \n",
      "\u001b[?25hRequirement already satisfied: sympy>=1.3 in /usr/local/lib/python3.7/dist-packages (from qiskit-terra==0.21.1->qiskit) (1.7.1)\n",
      "Requirement already satisfied: psutil>=5 in /usr/local/lib/python3.7/dist-packages (from qiskit-terra==0.21.1->qiskit) (5.4.8)\n",
      "Requirement already satisfied: dill>=0.3 in /usr/local/lib/python3.7/dist-packages (from qiskit-terra==0.21.1->qiskit) (0.3.5.1)\n",
      "Collecting retworkx>=0.11.0\n",
      "  Downloading retworkx-0.11.0-cp37-cp37m-manylinux_2_5_x86_64.manylinux1_x86_64.manylinux_2_12_x86_64.manylinux2010_x86_64.whl (1.6 MB)\n",
      "\u001b[K     |████████████████████████████████| 1.6 MB 42.9 MB/s \n",
      "\u001b[?25hCollecting ply>=3.10\n",
      "  Downloading ply-3.11-py2.py3-none-any.whl (49 kB)\n",
      "\u001b[K     |████████████████████████████████| 49 kB 5.8 MB/s \n",
      "\u001b[?25hCollecting stevedore>=3.0.0\n",
      "  Downloading stevedore-3.5.0-py3-none-any.whl (49 kB)\n",
      "\u001b[K     |████████████████████████████████| 49 kB 1.7 MB/s \n",
      "\u001b[?25hRequirement already satisfied: typing-extensions in /usr/local/lib/python3.7/dist-packages (from qiskit-terra==0.21.1->qiskit) (4.1.1)\n",
      "Collecting shared-memory38\n",
      "  Downloading shared_memory38-0.1.2-cp37-cp37m-manylinux_2_5_x86_64.manylinux1_x86_64.whl (25 kB)\n",
      "Collecting tweedledum<2.0,>=1.1\n",
      "  Downloading tweedledum-1.1.1-cp37-cp37m-manylinux_2_12_x86_64.manylinux2010_x86_64.whl (943 kB)\n",
      "\u001b[K     |████████████████████████████████| 943 kB 57.6 MB/s \n",
      "\u001b[?25hCollecting symengine>=0.9\n",
      "  Downloading symengine-0.9.2-cp37-cp37m-manylinux2010_x86_64.whl (37.5 MB)\n",
      "\u001b[K     |████████████████████████████████| 37.5 MB 1.3 MB/s \n",
      "\u001b[?25hRequirement already satisfied: six>=1.5 in /usr/local/lib/python3.7/dist-packages (from python-dateutil>=2.8.0->qiskit-ibmq-provider==0.19.2->qiskit) (1.15.0)\n",
      "Requirement already satisfied: chardet<4,>=3.0.2 in /usr/local/lib/python3.7/dist-packages (from requests>=2.19->qiskit-ibmq-provider==0.19.2->qiskit) (3.0.4)\n",
      "Requirement already satisfied: idna<3,>=2.5 in /usr/local/lib/python3.7/dist-packages (from requests>=2.19->qiskit-ibmq-provider==0.19.2->qiskit) (2.10)\n",
      "Requirement already satisfied: certifi>=2017.4.17 in /usr/local/lib/python3.7/dist-packages (from requests>=2.19->qiskit-ibmq-provider==0.19.2->qiskit) (2022.6.15)\n",
      "Collecting ntlm-auth>=1.0.2\n",
      "  Downloading ntlm_auth-1.5.0-py2.py3-none-any.whl (29 kB)\n",
      "Collecting cryptography>=1.3\n",
      "  Downloading cryptography-37.0.4-cp36-abi3-manylinux_2_24_x86_64.whl (4.1 MB)\n",
      "\u001b[K     |████████████████████████████████| 4.1 MB 32.2 MB/s \n",
      "\u001b[?25hRequirement already satisfied: cffi>=1.12 in /usr/local/lib/python3.7/dist-packages (from cryptography>=1.3->requests-ntlm>=1.1.0->qiskit-ibmq-provider==0.19.2->qiskit) (1.15.1)\n",
      "Requirement already satisfied: pycparser in /usr/local/lib/python3.7/dist-packages (from cffi>=1.12->cryptography>=1.3->requests-ntlm>=1.1.0->qiskit-ibmq-provider==0.19.2->qiskit) (2.21)\n",
      "Requirement already satisfied: importlib-metadata>=1.7.0 in /usr/local/lib/python3.7/dist-packages (from stevedore>=3.0.0->qiskit-terra==0.21.1->qiskit) (4.12.0)\n",
      "Collecting pbr!=2.1.0,>=2.0.0\n",
      "  Downloading pbr-5.10.0-py2.py3-none-any.whl (112 kB)\n",
      "\u001b[K     |████████████████████████████████| 112 kB 59.4 MB/s \n",
      "\u001b[?25hRequirement already satisfied: zipp>=0.5 in /usr/local/lib/python3.7/dist-packages (from importlib-metadata>=1.7.0->stevedore>=3.0.0->qiskit-terra==0.21.1->qiskit) (3.8.1)\n",
      "Requirement already satisfied: mpmath>=0.19 in /usr/local/lib/python3.7/dist-packages (from sympy>=1.3->qiskit-terra==0.21.1->qiskit) (1.2.1)\n",
      "Building wheels for collected packages: qiskit\n",
      "  Building wheel for qiskit (setup.py) ... \u001b[?25l\u001b[?25hdone\n",
      "  Created wheel for qiskit: filename=qiskit-0.37.1-py3-none-any.whl size=12067 sha256=01bbbfac84a32e8988bfeb64f1265f8652cd16d4536cf49eef0b50d088e1920b\n",
      "  Stored in directory: /root/.cache/pip/wheels/1c/3c/a3/bf8c2931e17937329c34a88b76cb88cbb7f9f2692fa7cfbcd1\n",
      "Successfully built qiskit\n",
      "Installing collected packages: pbr, tweedledum, symengine, stevedore, shared-memory38, retworkx, ply, ntlm-auth, cryptography, websockets, websocket-client, requests-ntlm, qiskit-terra, qiskit-ibmq-provider, qiskit-aer, qiskit\n",
      "Successfully installed cryptography-37.0.4 ntlm-auth-1.5.0 pbr-5.10.0 ply-3.11 qiskit-0.37.1 qiskit-aer-0.10.4 qiskit-ibmq-provider-0.19.2 qiskit-terra-0.21.1 requests-ntlm-1.1.0 retworkx-0.11.0 shared-memory38-0.1.2 stevedore-3.5.0 symengine-0.9.2 tweedledum-1.1.1 websocket-client-1.3.3 websockets-10.3\n",
      "Looking in indexes: https://pypi.org/simple, https://us-python.pkg.dev/colab-wheels/public/simple/\n",
      "Collecting pylatexenc\n",
      "  Downloading pylatexenc-2.10.tar.gz (162 kB)\n",
      "\u001b[K     |████████████████████████████████| 162 kB 5.1 MB/s \n",
      "\u001b[?25hBuilding wheels for collected packages: pylatexenc\n",
      "  Building wheel for pylatexenc (setup.py) ... \u001b[?25l\u001b[?25hdone\n",
      "  Created wheel for pylatexenc: filename=pylatexenc-2.10-py3-none-any.whl size=136835 sha256=fd945a7737244d6ea051dec551f995ff86bc1e79583d31336e6a783933077cee\n",
      "  Stored in directory: /root/.cache/pip/wheels/f1/8a/f5/33ee79d4473eb201b519fa40f989b842e373237395a3421f52\n",
      "Successfully built pylatexenc\n",
      "Installing collected packages: pylatexenc\n",
      "Successfully installed pylatexenc-2.10\n",
      "Looking in indexes: https://pypi.org/simple, https://us-python.pkg.dev/colab-wheels/public/simple/\n",
      "Collecting qiskit_nature\n",
      "  Downloading qiskit_nature-0.4.4-py3-none-any.whl (2.0 MB)\n",
      "\u001b[K     |████████████████████████████████| 2.0 MB 5.4 MB/s \n",
      "\u001b[?25hRequirement already satisfied: setuptools>=40.1.0 in /usr/local/lib/python3.7/dist-packages (from qiskit_nature) (57.4.0)\n",
      "Requirement already satisfied: retworkx>=0.10.1 in /usr/local/lib/python3.7/dist-packages (from qiskit_nature) (0.11.0)\n",
      "Requirement already satisfied: scipy>=1.4 in /usr/local/lib/python3.7/dist-packages (from qiskit_nature) (1.7.3)\n",
      "Requirement already satisfied: scikit-learn>=0.20.0 in /usr/local/lib/python3.7/dist-packages (from qiskit_nature) (1.0.2)\n",
      "Requirement already satisfied: typing-extensions in /usr/local/lib/python3.7/dist-packages (from qiskit_nature) (4.1.1)\n",
      "Requirement already satisfied: psutil>=5 in /usr/local/lib/python3.7/dist-packages (from qiskit_nature) (5.4.8)\n",
      "Requirement already satisfied: numpy>=1.17 in /usr/local/lib/python3.7/dist-packages (from qiskit_nature) (1.21.6)\n",
      "Requirement already satisfied: qiskit-terra>=0.21.0 in /usr/local/lib/python3.7/dist-packages (from qiskit_nature) (0.21.1)\n",
      "Requirement already satisfied: h5py in /usr/local/lib/python3.7/dist-packages (from qiskit_nature) (3.1.0)\n",
      "Requirement already satisfied: sympy>=1.3 in /usr/local/lib/python3.7/dist-packages (from qiskit-terra>=0.21.0->qiskit_nature) (1.7.1)\n",
      "Requirement already satisfied: python-dateutil>=2.8.0 in /usr/local/lib/python3.7/dist-packages (from qiskit-terra>=0.21.0->qiskit_nature) (2.8.2)\n",
      "Requirement already satisfied: symengine>=0.9 in /usr/local/lib/python3.7/dist-packages (from qiskit-terra>=0.21.0->qiskit_nature) (0.9.2)\n",
      "Requirement already satisfied: ply>=3.10 in /usr/local/lib/python3.7/dist-packages (from qiskit-terra>=0.21.0->qiskit_nature) (3.11)\n",
      "Requirement already satisfied: shared-memory38 in /usr/local/lib/python3.7/dist-packages (from qiskit-terra>=0.21.0->qiskit_nature) (0.1.2)\n",
      "Requirement already satisfied: stevedore>=3.0.0 in /usr/local/lib/python3.7/dist-packages (from qiskit-terra>=0.21.0->qiskit_nature) (3.5.0)\n",
      "Requirement already satisfied: dill>=0.3 in /usr/local/lib/python3.7/dist-packages (from qiskit-terra>=0.21.0->qiskit_nature) (0.3.5.1)\n",
      "Requirement already satisfied: tweedledum<2.0,>=1.1 in /usr/local/lib/python3.7/dist-packages (from qiskit-terra>=0.21.0->qiskit_nature) (1.1.1)\n",
      "Requirement already satisfied: six>=1.5 in /usr/local/lib/python3.7/dist-packages (from python-dateutil>=2.8.0->qiskit-terra>=0.21.0->qiskit_nature) (1.15.0)\n",
      "Requirement already satisfied: joblib>=0.11 in /usr/local/lib/python3.7/dist-packages (from scikit-learn>=0.20.0->qiskit_nature) (1.1.0)\n",
      "Requirement already satisfied: threadpoolctl>=2.0.0 in /usr/local/lib/python3.7/dist-packages (from scikit-learn>=0.20.0->qiskit_nature) (3.1.0)\n",
      "Requirement already satisfied: pbr!=2.1.0,>=2.0.0 in /usr/local/lib/python3.7/dist-packages (from stevedore>=3.0.0->qiskit-terra>=0.21.0->qiskit_nature) (5.10.0)\n",
      "Requirement already satisfied: importlib-metadata>=1.7.0 in /usr/local/lib/python3.7/dist-packages (from stevedore>=3.0.0->qiskit-terra>=0.21.0->qiskit_nature) (4.12.0)\n",
      "Requirement already satisfied: zipp>=0.5 in /usr/local/lib/python3.7/dist-packages (from importlib-metadata>=1.7.0->stevedore>=3.0.0->qiskit-terra>=0.21.0->qiskit_nature) (3.8.1)\n",
      "Requirement already satisfied: mpmath>=0.19 in /usr/local/lib/python3.7/dist-packages (from sympy>=1.3->qiskit-terra>=0.21.0->qiskit_nature) (1.2.1)\n",
      "Requirement already satisfied: cached-property in /usr/local/lib/python3.7/dist-packages (from h5py->qiskit_nature) (1.5.2)\n",
      "Installing collected packages: qiskit-nature\n",
      "Successfully installed qiskit-nature-0.4.4\n",
      "Looking in indexes: https://pypi.org/simple, https://us-python.pkg.dev/colab-wheels/public/simple/\n",
      "Collecting qutip\n",
      "  Downloading qutip-4.7.0-cp37-cp37m-manylinux_2_5_x86_64.manylinux1_x86_64.manylinux_2_12_x86_64.manylinux2010_x86_64.whl (14.7 MB)\n",
      "\u001b[K     |████████████████████████████████| 14.7 MB 5.1 MB/s \n",
      "\u001b[?25hRequirement already satisfied: numpy>=1.16.6 in /usr/local/lib/python3.7/dist-packages (from qutip) (1.21.6)\n",
      "Requirement already satisfied: packaging in /usr/local/lib/python3.7/dist-packages (from qutip) (21.3)\n",
      "Requirement already satisfied: scipy>=1.0 in /usr/local/lib/python3.7/dist-packages (from qutip) (1.7.3)\n",
      "Requirement already satisfied: pyparsing!=3.0.5,>=2.0.2 in /usr/local/lib/python3.7/dist-packages (from packaging->qutip) (3.0.9)\n",
      "Installing collected packages: qutip\n",
      "Successfully installed qutip-4.7.0\n",
      "Looking in indexes: https://pypi.org/simple, https://us-python.pkg.dev/colab-wheels/public/simple/\n",
      "Collecting pyscf\n",
      "  Downloading pyscf-2.0.1-cp37-cp37m-manylinux1_x86_64.whl (37.5 MB)\n",
      "\u001b[K     |████████████████████████████████| 37.5 MB 1.3 MB/s \n",
      "\u001b[?25hRequirement already satisfied: h5py>=2.7 in /usr/local/lib/python3.7/dist-packages (from pyscf) (3.1.0)\n",
      "Requirement already satisfied: scipy!=1.5.0,!=1.5.1 in /usr/local/lib/python3.7/dist-packages (from pyscf) (1.7.3)\n",
      "Requirement already satisfied: numpy!=1.16,!=1.17,>=1.13 in /usr/local/lib/python3.7/dist-packages (from pyscf) (1.21.6)\n",
      "Requirement already satisfied: cached-property in /usr/local/lib/python3.7/dist-packages (from h5py>=2.7->pyscf) (1.5.2)\n",
      "Installing collected packages: pyscf\n",
      "Successfully installed pyscf-2.0.1\n"
     ]
    }
   ],
   "source": [
    "!pip install qiskit\n",
    "!pip install pylatexenc\n",
    "!pip install qiskit_nature\n",
    "!pip install qutip\n",
    "!pip install pyscf"
   ]
  },
  {
   "cell_type": "code",
   "execution_count": 2,
   "metadata": {
    "colab": {
     "base_uri": "https://localhost:8080/"
    },
    "id": "hw7SvqnwCRjr",
    "outputId": "3d0076b3-dacb-4135-b939-8a45f1e8a94d"
   },
   "outputs": [
    {
     "name": "stdout",
     "output_type": "stream",
     "text": [
      "Looking in indexes: https://pypi.org/simple, https://us-python.pkg.dev/colab-wheels/public/simple/\n",
      "Requirement already satisfied: matplotlib in /usr/local/lib/python3.7/dist-packages (3.2.2)\n",
      "Requirement already satisfied: python-dateutil>=2.1 in /usr/local/lib/python3.7/dist-packages (from matplotlib) (2.8.2)\n",
      "Requirement already satisfied: kiwisolver>=1.0.1 in /usr/local/lib/python3.7/dist-packages (from matplotlib) (1.4.4)\n",
      "Requirement already satisfied: numpy>=1.11 in /usr/local/lib/python3.7/dist-packages (from matplotlib) (1.21.6)\n",
      "Requirement already satisfied: pyparsing!=2.0.4,!=2.1.2,!=2.1.6,>=2.0.1 in /usr/local/lib/python3.7/dist-packages (from matplotlib) (3.0.9)\n",
      "Requirement already satisfied: cycler>=0.10 in /usr/local/lib/python3.7/dist-packages (from matplotlib) (0.11.0)\n",
      "Requirement already satisfied: typing-extensions in /usr/local/lib/python3.7/dist-packages (from kiwisolver>=1.0.1->matplotlib) (4.1.1)\n",
      "Requirement already satisfied: six>=1.5 in /usr/local/lib/python3.7/dist-packages (from python-dateutil>=2.1->matplotlib) (1.15.0)\n"
     ]
    }
   ],
   "source": [
    "!pip install matplotlib"
   ]
  },
  {
   "cell_type": "markdown",
   "metadata": {
    "id": "R_OBWRBdCRjs"
   },
   "source": [
    "## Digital-analog Variational Quantum Eigensolver"
   ]
  },
  {
   "cell_type": "markdown",
   "metadata": {
    "id": "lkdFV7BXCRjs"
   },
   "source": [
    "In chemistry, it's assumed that properties of atoms and molecules can be determined by solving the Schrödinger equation. VQE comes from outsourcing some of the problem's processing workload to a classic computer. To start with, first prepare the ansatz, parameterized blocks within a quantum circuit, then, through iterative loops find the optimal parameters for this circuit using a classical optimizer. There are two fundamental ways to implement quantum: analog quantum simulation and digital quantum computing. A digital quantum computer is built on top of physical platform processors, building quantum circuits and quantum gate-based models, such as superconducting circuits to implement any routine or algorithm. Analog quantum simulation, imitates a controllable quantum system whose dynamics are proven in previous results; those tend to grow exponentially when the dimension of many-body complexity increases. The defining advantage of VQE over classical algorithms comes from the verification that a quantum processing unit can efficiently represent and store the wave function of the problem. Nowadays there exist another paradigm, called digital-analog quantum simulations (DAQS), which apply both digital and analog blocks in arrangement to operate their complexity and versatility. For DAQC, this combine flexibility of digital quantum computation with the robustness of analog quantum simulators. This notebook is aimed to solve the ground state energy of the hydrogen molecule by using Digital-analog variational quantum eigensolver(DA-VQE). \n",
    "\n",
    "In conventional VQE, entanglement of qubits is performed by the digital control gates such as CX gates. DA-VQE, on the other hand, employs a time-evolution operator $U(t) = e^{iH't}$. $H'$ usually consists of the two-spin interactions, which is distinct from the target Hamiltonian $H$ for optimization."
   ]
  },
  {
   "cell_type": "code",
   "execution_count": 3,
   "metadata": {
    "ExecuteTime": {
     "end_time": "2022-08-15T07:10:57.834702Z",
     "start_time": "2022-08-15T07:10:56.976256Z"
    },
    "id": "PEl1GjPUJgJk"
   },
   "outputs": [],
   "source": [
    "from DA_VQE import *"
   ]
  },
  {
   "cell_type": "markdown",
   "metadata": {
    "id": "d57P6Dy1JgJl"
   },
   "source": [
    "\n",
    "\n",
    "First, we define the two-qubit hamiltonian $H$. We load the molecules from qiskit."
   ]
  },
  {
   "cell_type": "code",
   "execution_count": 4,
   "metadata": {
    "colab": {
     "base_uri": "https://localhost:8080/"
    },
    "id": "EK4M0AeLJgJl",
    "outputId": "c3937e11-2cc8-47c1-8a6f-07bc6ccc0738",
    "scrolled": true
   },
   "outputs": [
    {
     "name": "stdout",
     "output_type": "stream",
     "text": [
      "The atomic distance is  1.545 Å\n"
     ]
    },
    {
     "name": "stderr",
     "output_type": "stream",
     "text": [
      "/usr/local/lib/python3.7/dist-packages/qiskit_nature/problems/second_quantization/electronic/electronic_structure_problem.py:93: ListAuxOpsDeprecationWarning: List-based `aux_operators` are deprecated as of version 0.3.0 and support for them will be removed no sooner than 3 months after the release. Instead, use dict-based `aux_operators`. You can switch to the dict-based interface immediately, by setting `qiskit_nature.settings.dict_aux_operators` to `True`.\n",
      "  second_quantized_ops = self._grouped_property_transformed.second_q_ops()\n"
     ]
    },
    {
     "name": "stdout",
     "output_type": "stream",
     "text": [
      "Number of qubits: 4\n",
      "Bonding energy value: -8.89100\n",
      "Total energy: -7.86347\n"
     ]
    }
   ],
   "source": [
    "# Loading the lithium hydride molecule\n",
    "LiH_op, LiH_problem, LiH_converter = load_Molecule(\"LiH\")\n",
    "print(f'Number of qubits: {LiH_op.num_qubits}')\n",
    "ref_value = energy_solver(LiH_op)\n",
    "print(f'Bonding energy value: {ref_value:.5f}')\n",
    "ref_value = total_energy_solver(LiH_problem, LiH_converter)\n",
    "print(f'Total energy: {ref_value:.5f}')"
   ]
  },
  {
   "cell_type": "code",
   "execution_count": 5,
   "metadata": {
    "colab": {
     "base_uri": "https://localhost:8080/"
    },
    "id": "a_g7WRSxJgJm",
    "outputId": "b9a5285c-c5d9-4a6f-936a-1ae5239042de"
   },
   "outputs": [
    {
     "name": "stdout",
     "output_type": "stream",
     "text": [
      "The atomic distance is  0.735 Å\n",
      "Number of qubits: 2\n",
      "Bonding energy value: -1.85728\n",
      "Total energy(core repulsion included): -1.13731\n"
     ]
    }
   ],
   "source": [
    "# Loading the dihydrogen molecule\n",
    "H2_op, H2_problem, H2_converter = load_Molecule(\"H2\")\n",
    "print(f'Number of qubits: {H2_op.num_qubits}')\n",
    "ref_value = energy_solver(H2_op)\n",
    "print(f'Bonding energy value: {ref_value:.5f}')\n",
    "ref_value = total_energy_solver(H2_problem, H2_converter)\n",
    "print(f'Total energy(core repulsion included): {ref_value:.5f}')"
   ]
  },
  {
   "cell_type": "code",
   "execution_count": 6,
   "metadata": {
    "colab": {
     "base_uri": "https://localhost:8080/"
    },
    "id": "oiiM0_X8JgJn",
    "outputId": "486844c5-76b9-466b-d76d-2866fb3c25b7",
    "scrolled": true
   },
   "outputs": [
    {
     "name": "stdout",
     "output_type": "stream",
     "text": [
      "The atomic distance is  1.3 Å\n",
      "Number of qubits: 6\n",
      "Bonding energy value: -19.02446\n",
      "Total energy: -15.56445\n"
     ]
    }
   ],
   "source": [
    "# Loading the beryllium hydride molecule\n",
    "BeH2_op, BeH2_problem, BeH2_converter = load_Molecule(\"BeH2\")\n",
    "print(f'Number of qubits: {BeH2_op.num_qubits}')\n",
    "ref_value = energy_solver(BeH2_op)\n",
    "print(f'Bonding energy value: {ref_value:.5f}')\n",
    "ref_value = total_energy_solver(BeH2_problem, BeH2_converter)\n",
    "print(f'Total energy: {ref_value:.5f}')"
   ]
  },
  {
   "cell_type": "markdown",
   "metadata": {
    "id": "trdqQIEnJgJo"
   },
   "source": [
    "As the above problem since we are working with low dimensionality is still tractable classically with NumPyMinimumEigensolver - searching over feasible states and returns an eigenstate that has the smallest eigenvalue among feasible states, therefore with this methods is possible to compute a reference value so we can compare later the results. "
   ]
  },
  {
   "cell_type": "markdown",
   "metadata": {
    "id": "rXAfwEaAJgJo"
   },
   "source": [
    "## Performance *without* noise\n",
    "\n",
    "The next cell follow the hackaton example to make the backend and QuantumInstance, holding the backend as well as various other run time configuration. Since the job is running on simulator (mimic the execution of an actual device without adding noise) we can see output measurement without attempt to mitigate noise."
   ]
  },
  {
   "cell_type": "code",
   "execution_count": 8,
   "metadata": {
    "ExecuteTime": {
     "end_time": "2022-08-15T06:02:07.990340Z",
     "start_time": "2022-08-15T06:02:07.984585Z"
    },
    "id": "YXtdmSWnJgJp"
   },
   "outputs": [],
   "source": [
    "# Initialize a pseudo-random number sequence\n",
    "seed = 175\n",
    "iterations = 125\n",
    "algorithm_globals.random_seed = seed\n",
    "# Construct the backend from an aer simulator and the quantum instance\n",
    "backend = Aer.get_backend('aer_simulator')\n",
    "qi = QuantumInstance(backend=backend, seed_simulator=seed, seed_transpiler=seed,shots=8192) \n",
    "#num_qubits = 2\n",
    "#num_qubits = 4"
   ]
  },
  {
   "cell_type": "markdown",
   "metadata": {
    "id": "7B8NuHlZJgJp"
   },
   "source": [
    "## Time-evolution operator $U(t)$\n",
    "Note that this time-evolving Hamiltonian is not the Hamiltonian we want to optimize. (non-commutative with the target Hamiltonian for optimizing)<- This might be wrong!\n",
    "\n",
    "\n",
    "Given a Hermitian operator $\\hat H$ with an unknown minimum eigenvalue $E_{min}$, associated with the eigenstate $|\\psi_{min}\\rangle$, VQE provides an estimate $E_{\\theta}$, bounded by $E_{min}$:\n",
    "\n",
    "\\begin{align*}\n",
    "    E_{min} \\le E_{\\theta} \\equiv \\langle \\psi(\\theta) |\\hat H|\\psi(\\theta) \\rangle\n",
    "\\end{align*}  \n",
    "\n",
    "where $|\\psi(\\theta)\\rangle$ is the trial state associated with $E_{\\theta}$. Then, the time evolving operator $U(t) = e^{iH't}$ acting on the ground state part only gets the phase. We want, on the other hand, the hopping between the energy states so the coefficients <GS|$\\psi(\\theta)\\rangle$> becomes maximum."
   ]
  },
  {
   "cell_type": "markdown",
   "metadata": {
    "id": "WA2WkjuoCRjv"
   },
   "source": [
    "## Definitions of the analogue blocks that consists of XX, YY, and ZZ interactions"
   ]
  },
  {
   "cell_type": "code",
   "execution_count": 9,
   "metadata": {
    "ExecuteTime": {
     "end_time": "2022-08-15T06:02:09.411048Z",
     "start_time": "2022-08-15T06:02:09.389149Z"
    },
    "id": "QOapqEpOJgJq"
   },
   "outputs": [],
   "source": [
    "# Importing the necessary libraries\n",
    "from qiskit.circuit import Gate, QuantumCircuit, QuantumRegister, ParameterExpression\n",
    "from qiskit.quantum_info.operators.predicates import matrix_equal\n",
    "from qiskit.quantum_info.operators.predicates import is_hermitian_matrix\n",
    "from qiskit.extensions.exceptions import ExtensionError\n",
    "from qiskit.circuit.exceptions import CircuitError\n",
    "from numbers import Number\n",
    "import numpy\n",
    "\n",
    "from qiskit.circuit import Parameter, QuantumCircuit, QuantumRegister, ParameterVector\n",
    "from qiskit.extensions.unitary import UnitaryGate\n",
    "\n",
    "\n",
    "# This code is based on https://github.com/Qiskit/qiskit-terra/blob/main/qiskit/extensions/hamiltonian_gate.py licenced under Apache licence.\n",
    "class CustomHamiltonianGate(Gate):\n",
    "    def __init__(self, time, num_qubits, connectivity, h_coeffs, label=None):\n",
    "        if isinstance(time, Number) and time != numpy.real(time):\n",
    "            raise ExtensionError(\"Evolution time is not real.\")\n",
    "       \n",
    "        self.num_qubits = num_qubits\n",
    "        self.connectivity = connectivity\n",
    "        self.h_coeff1 = h_coeffs[0]\n",
    "        self.h_coeff2 = h_coeffs[1]\n",
    "        self.h_coeff3 = h_coeffs[2]\n",
    "        # Store instruction params\n",
    "        super().__init__(\"custom_hamiltonian\", num_qubits, [time, num_qubits, connectivity, h_coeffs[0], h_coeffs[1], h_coeffs[2]], label=label)\n",
    "        # note that params[0] is time, params[1] is num_qubits, params[2] is connectivity\n",
    "        # params[3] is h_coeff1, params[4] is h_coeff2, params[5] is h_coeff3\n",
    "\n",
    "    def __array__(self, dtype=None):\n",
    "        \"\"\"Return matrix for the unitary.\"\"\"\n",
    "        # pylint: disable=unused-argument\n",
    "        import scipy.linalg\n",
    "\n",
    "        try:\n",
    "            return scipy.linalg.expm(-1j * self.get_ham() * float(self.params[0]))\n",
    "        except TypeError as ex:\n",
    "            raise TypeError(\n",
    "                \"Unable to generate Unitary matrix for \"\n",
    "                \"unbound t parameter {}\".format(self.params[1])\n",
    "            ) from ex\n",
    "\n",
    "    def _define(self):\n",
    "        \"\"\"Calculate a subcircuit that implements this unitary.\"\"\"\n",
    "        q = QuantumRegister(self.num_qubits, \"q\")\n",
    "        qc = QuantumCircuit(q, name=self.name)\n",
    "        qc._append(UnitaryGate(self.to_matrix()), q[:], [])\n",
    "        self.definition = qc\n",
    "\n",
    "    def validate_parameter(self, parameter):\n",
    "        return parameter\n",
    "\n",
    "    def get_ham(self):\n",
    "        dim = 2 ** self.num_qubits\n",
    "        num_connections = len(self.connectivity)\n",
    "        zz_hamiltonian = np.zeros([dim, dim], dtype=np.complex128)\n",
    "        xx_hamiltonian = np.zeros([dim, dim], dtype=np.complex128)   # modification to add sigma_x interactions\n",
    "        yy_hamiltonian = np.zeros([dim, dim], dtype=np.complex128)   # modification to add sigma_y interactions\n",
    "\n",
    "        for c in range(num_connections):\n",
    "            ops_to_tensor = [qt.identity(2)] * self.num_qubits\n",
    "            ops_to_tensor[self.connectivity[c][0]] = qt.sigmaz()\n",
    "            ops_to_tensor[self.connectivity[c][1]] = qt.sigmaz()\n",
    "            zz_hamiltonian += float(self.params[3]) * np.array(qt.tensor(ops_to_tensor)) #+= \n",
    "        # repeat for xx and yy interaction hamiltonian. Note that we will change the params[] index    \n",
    "        for c in range(num_connections):\n",
    "            ops_to_tensor = [qt.identity(2)] * self.num_qubits\n",
    "            ops_to_tensor[self.connectivity[c][0]] = qt.sigmax()\n",
    "            ops_to_tensor[self.connectivity[c][1]] = qt.sigmax()\n",
    "            xx_hamiltonian += float(self.params[4]) * np.array(qt.tensor(ops_to_tensor)) \n",
    "        for c in range(num_connections):\n",
    "            ops_to_tensor = [qt.identity(2)] * self.num_qubits\n",
    "            ops_to_tensor[self.connectivity[c][0]] = qt.sigmay()\n",
    "            ops_to_tensor[self.connectivity[c][1]] = qt.sigmay()\n",
    "            yy_hamiltonian += float(self.params[5]) * np.array(qt.tensor(ops_to_tensor)) \n",
    "            # now assemble the full hamiltonian\n",
    "        hamiltonian = zz_hamiltonian + xx_hamiltonian + yy_hamiltonian    \n",
    "        return hamiltonian\n",
    "\n",
    "def custom_hamiltonian(self, time, connectivity, h_coeffs, qubits, label=None):\n",
    "    \"\"\"Apply hamiltonian evolution to qubits.\"\"\"\n",
    "    if not isinstance(qubits, list):\n",
    "        qubits = [qubits]\n",
    "\n",
    "    return self.append(CustomHamiltonianGate(time=time, num_qubits=len(qubits), connectivity=connectivity, h_coeffs = h_coeffs, label=label), qubits, [])\n",
    "\n",
    "\n",
    "QuantumCircuit.custom_hamiltonian = custom_hamiltonian"
   ]
  },
  {
   "cell_type": "markdown",
   "metadata": {
    "id": "sRnixVfiJgJr"
   },
   "source": [
    "The DAQC paradigm requires the implementation of entangling multipartite evolutions and fast single-qubit gates.\n",
    "\n",
    "We call a quantum protocol a digital quantum algorithm, when it makes use only of digital blocks, a k-parametric continuous family of unitary operators $U_{n}{(\\phi)}$. $\\phi_{l}$ $\\in$ $I_{l}(R)$ with $1$ $\\leq$ $l$ $\\leq$ $k$ comprises a digital block if it is equivalent to a fixed unitary evolution $U_n$ up to a set of local rotations $W_{i}(\\phi)$, whereas an analog quantum algorithm consists on a k-parameter-dependent entangling unitary evolutions $V_{n}{(\\phi)}$ with a semigroup structure:\n",
    "\n",
    "$V_{n}{(\\phi)}$ = $V_{n}{(\\phi_{1})}V_{n}{(\\phi_{2})}$; ${(\\phi)}$ = ${(\\phi_{1})}$ + ${(\\phi_{2})}$.\n",
    "\n",
    "Naturally, a digital-analog protocol contains both digital and analog blocks."
   ]
  },
  {
   "cell_type": "markdown",
   "metadata": {
    "id": "63Yu8wH4CRjw"
   },
   "source": [
    "## Digital-analog Ansatz\n",
    "Define the function that automatically construct the ansatz that is suited for the given operator. The entanglement has two options: \n",
    "\n",
    "staggered: two-body time-evolving operators on i-th and (i+1)-th qubits (for i=0 to n-2)\n",
    "entire: $n$ body time-evolving operators on the all qubits."
   ]
  },
  {
   "cell_type": "code",
   "execution_count": 10,
   "metadata": {
    "id": "Wns_dhEKJgJr"
   },
   "outputs": [],
   "source": [
    "def digital_analog_ansatz(Operator, entanglement = \"entire\"):\n",
    "    # First we need to define variational parameters (at least one) phi[...]\n",
    "    n_qubits = Operator.num_qubits\n",
    "    phi = ParameterVector(\"$\\phi$\", 4 * n_qubits)\n",
    "    \n",
    "    if entanglement == \"entire\":\n",
    "        t = Parameter(\"t\")\n",
    "        psi = ParameterVector(\"$\\psi$\",3)\n",
    "        connectivity_arr = []\n",
    "        qubits_arr = [0]\n",
    "        for i in range(n_qubits - 1):\n",
    "            connectivity_arr.append([i, i+1])\n",
    "            qubits_arr.append(i+1)\n",
    "    \n",
    "    if entanglement == \"staggered\":\n",
    "        psi = ParameterVector(\"$\\psi$\",3*(n_qubits - 1))\n",
    "        \n",
    "    # Create a quantum circuit that is used for the ansatz\n",
    "    ansatz = QuantumCircuit(n_qubits)\n",
    "    #circuit\n",
    "    for i in range(n_qubits):\n",
    "        ansatz.rx(phi[2*i], i)\n",
    "        ansatz.rz(phi[2*i+1], i)\n",
    "    if entanglement == \"entire\":\n",
    "        ansatz.custom_hamiltonian(connectivity=connectivity_arr, h_coeffs=psi, time=t , qubits=qubits_arr,label='Analog block')\n",
    "    if entanglement == \"staggered\":\n",
    "        for i in range(n_qubits - 1):\n",
    "            ansatz.custom_hamiltonian(connectivity=[[0, 1]], h_coeffs= psi[3*i:3*i+3], time=1, qubits=[i,i+1], label='$U_{}(t)$'.format(i))\n",
    "    ##\n",
    "    for i in range(n_qubits):\n",
    "        ansatz.rz(phi[2*n_qubits+2*i], i)\n",
    "        ansatz.rx(phi[2*n_qubits+2*i+1], i)\n",
    "        \n",
    "    if entanglement == \"entire\":\n",
    "        ansatz.bind_parameters({t: 0.3})\n",
    "        ansatz.bind_parameters({psi[0]: 0.3})\n",
    "        ansatz.bind_parameters({psi[1]: 0.3})\n",
    "        ansatz.bind_parameters({psi[2]: 0.3})\n",
    "    if entanglement == \"staggered\":\n",
    "        for i in range(n_qubits -1):\n",
    "            ansatz.bind_parameters({psi[i]: 0.3})\n",
    "    return ansatz"
   ]
  },
  {
   "cell_type": "code",
   "execution_count": 11,
   "metadata": {
    "colab": {
     "base_uri": "https://localhost:8080/",
     "height": 140
    },
    "id": "D8zs7_ipJgJs",
    "outputId": "31761930-ec8f-4cf8-d30d-8fd98f3428ab",
    "scrolled": true
   },
   "outputs": [
    {
     "data": {
      "image/png": "[encoded data removed]",
      "text/plain": [
       "<Figure size 507.852x144.48 with 1 Axes>"
      ]
     },
     "execution_count": 11,
     "metadata": {},
     "output_type": "execute_result"
    }
   ],
   "source": [
    "cirq = digital_analog_ansatz(H2_op)\n",
    "cirq.draw(output=\"mpl\")"
   ]
  },
  {
   "cell_type": "code",
   "execution_count": 12,
   "metadata": {
    "colab": {
     "base_uri": "https://localhost:8080/",
     "height": 231
    },
    "id": "tYaHPburJgJs",
    "outputId": "cccb4aae-41b2-41c3-91d8-d2836efa020e",
    "scrolled": true
   },
   "outputs": [
    {
     "data": {
      "image/png": "[encoded data removed]",
      "text/plain": [
       "<Figure size 568.197x264.88 with 1 Axes>"
      ]
     },
     "execution_count": 12,
     "metadata": {},
     "output_type": "execute_result"
    }
   ],
   "source": [
    "cirq = digital_analog_ansatz(LiH_op)\n",
    "cirq.draw(output=\"mpl\")"
   ]
  },
  {
   "cell_type": "code",
   "execution_count": 13,
   "metadata": {
    "colab": {
     "base_uri": "https://localhost:8080/",
     "height": 322
    },
    "id": "KpDVgbBwJgJt",
    "outputId": "d2d46b9e-99f8-4fcf-c9c6-4da8f0995489"
   },
   "outputs": [
    {
     "data": {
      "image/png": "[encoded data removed]",
      "text/plain": [
       "<Figure size 688.597x385.28 with 1 Axes>"
      ]
     },
     "execution_count": 13,
     "metadata": {},
     "output_type": "execute_result"
    }
   ],
   "source": [
    "cirq = digital_analog_ansatz(BeH2_op)\n",
    "cirq.draw(output=\"mpl\")"
   ]
  },
  {
   "cell_type": "markdown",
   "metadata": {
    "id": "XolpiWibCRjx"
   },
   "source": [
    "The optimizer guides the evolution of the ansatz parameters, so it's very important to follow the convergence of energy since it would define the number of measurements that must be carried out in the QPU."
   ]
  },
  {
   "cell_type": "code",
   "execution_count": 14,
   "metadata": {
    "id": "41hOgeVfJgJt"
   },
   "outputs": [],
   "source": [
    "def find_E0(Operator, initial_pt, OPTIMIZER = SPSA(maxiter=iterations),entanglement=\"entire\"):\n",
    "    cirq = digital_analog_ansatz(Operator, entanglement)\n",
    "    #OPTIMIZER = SLSQP(maxiter=1000) # in the absence of noise we use SLSQP\n",
    "    #hist-data\n",
    "    counts = []\n",
    "    values = []\n",
    "    def store_intermediate_result(eval_count, parameters, mean, std):\n",
    "        counts.append(eval_count)\n",
    "        values.append(mean)\n",
    "    vqe = VQE(cirq, optimizer=OPTIMIZER, initial_point=initial_pt, callback=store_intermediate_result, quantum_instance=qi, include_custom=True)\n",
    "    result = vqe.compute_minimum_eigenvalue(operator=Operator)\n",
    "    hist = (values, counts)\n",
    "    return result, hist"
   ]
  },
  {
   "cell_type": "code",
   "execution_count": 15,
   "metadata": {
    "id": "bC-_EmHJJgJt"
   },
   "outputs": [],
   "source": [
    "result, hist = find_E0(H2_op, np.random.uniform(low=0.5, high=2.0, size=(12,)),SLSQP(maxiter=1000))"
   ]
  },
  {
   "cell_type": "code",
   "execution_count": 16,
   "metadata": {
    "colab": {
     "base_uri": "https://localhost:8080/"
    },
    "id": "z0K9UVT1JgJt",
    "outputId": "fa72f10f-b284-4dfe-d336-eb20ed2ac445"
   },
   "outputs": [
    {
     "name": "stdout",
     "output_type": "stream",
     "text": [
      "{   'aux_operator_eigenvalues': None,\n",
      "    'cost_function_evals': 219,\n",
      "    'eigenstate': {'01': 0.9938777433618282, '10': 0.11048543456039805},\n",
      "    'eigenvalue': (-1.8572747652182098+0j),\n",
      "    'optimal_parameters': {   Parameter(t): 3.265514181819685,\n",
      "                              ParameterVectorElement($\\phi$[0]): 1.3909199970098183,\n",
      "                              ParameterVectorElement($\\phi$[1]): 1.820353969551891,\n",
      "                              ParameterVectorElement($\\phi$[2]): 0.5313309751182982,\n",
      "                              ParameterVectorElement($\\psi$[2]): 2.0909249135825765,\n",
      "                              ParameterVectorElement($\\psi$[0]): 2.1255315486896373,\n",
      "                              ParameterVectorElement($\\phi$[7]): 1.97455272034872,\n",
      "                              ParameterVectorElement($\\phi$[6]): 1.4262969056157222,\n",
      "                              ParameterVectorElement($\\psi$[1]): 2.459009398737019,\n",
      "                              ParameterVectorElement($\\phi$[5]): 0.7365330814876628,\n",
      "                              ParameterVectorElement($\\phi$[4]): 0.18704649342336693,\n",
      "                              ParameterVectorElement($\\phi$[3]): -0.27821691308258983},\n",
      "    'optimal_point': array([ 1.39092   ,  1.82035397,  0.53133098, -0.27821691,  0.18704649,\n",
      "        0.73653308,  1.42629691,  1.97455272,  2.12553155,  2.4590094 ,\n",
      "        2.09092491,  3.26551418]),\n",
      "    'optimal_value': -1.8572747652182098,\n",
      "    'optimizer_evals': None,\n",
      "    'optimizer_time': 8.077202320098877}\n"
     ]
    }
   ],
   "source": [
    "print(result)"
   ]
  },
  {
   "cell_type": "code",
   "execution_count": 17,
   "metadata": {
    "colab": {
     "base_uri": "https://localhost:8080/",
     "height": 283
    },
    "id": "bG_KZkIYJgJt",
    "outputId": "9d9b5c0f-c8dd-43bf-995e-dfa509698816",
    "scrolled": true
   },
   "outputs": [
    {
     "data": {
      "text/plain": [
       "[<matplotlib.lines.Line2D at 0x7fdd96ac8350>]"
      ]
     },
     "execution_count": 17,
     "metadata": {},
     "output_type": "execute_result"
    },
    {
     "data": {
      "image/png": "[encoded data removed]",
      "text/plain": [
       "<Figure size 432x288 with 1 Axes>"
      ]
     },
     "metadata": {
      "needs_background": "light"
     },
     "output_type": "display_data"
    }
   ],
   "source": [
    "# Setting the values and counts for the histogram\n",
    "values, counts = hist\n",
    "# Plotting the graphic\n",
    "plt.plot(counts, values)"
   ]
  },
  {
   "cell_type": "code",
   "execution_count": 18,
   "metadata": {
    "id": "i-XMKUArJgJu"
   },
   "outputs": [],
   "source": [
    "result, hist = find_E0(LiH_op, np.random.uniform(low=0.5, high=2.0, size=(20,)),SLSQP(maxiter=1000))"
   ]
  },
  {
   "cell_type": "code",
   "execution_count": 19,
   "metadata": {
    "colab": {
     "base_uri": "https://localhost:8080/"
    },
    "id": "vpnvh_HsJgJu",
    "outputId": "438f3c71-c212-4001-9ffc-a939d976b77d"
   },
   "outputs": [
    {
     "name": "stdout",
     "output_type": "stream",
     "text": [
      "Total_energy:  -7.814037800195116\n",
      "Ref: Total_energy:  -7.863471722862332\n"
     ]
    }
   ],
   "source": [
    "vqe_result = LiH_problem.interpret(result).total_energies[0].real\n",
    "print(\"Total_energy: \", vqe_result)\n",
    "print(\"Ref: Total_energy: \", total_energy_solver(LiH_problem, LiH_converter))"
   ]
  },
  {
   "cell_type": "code",
   "execution_count": 20,
   "metadata": {
    "colab": {
     "base_uri": "https://localhost:8080/"
    },
    "id": "ztHF0-KKJgJu",
    "outputId": "4bed3a2e-3a47-462f-ccdf-5425422a3646"
   },
   "outputs": [
    {
     "name": "stdout",
     "output_type": "stream",
     "text": [
      "{   'aux_operator_eigenvalues': None,\n",
      "    'cost_function_evals': 665,\n",
      "    'eigenstate': {   '0000': 0.036643873123620545,\n",
      "                      '0011': 0.05298695299316616,\n",
      "                      '0101': 0.9921567416492215,\n",
      "                      '0110': 0.04133986423538423,\n",
      "                      '1001': 0.06346905003621844,\n",
      "                      '1100': 0.061515686515717274,\n",
      "                      '1111': 0.04419417382415922},\n",
      "    'eigenvalue': (-8.84156636508832+0j),\n",
      "    'optimal_parameters': {   Parameter(t): 1.6591844736434154,\n",
      "                              ParameterVectorElement($\\psi$[1]): 1.870394039819345,\n",
      "                              ParameterVectorElement($\\psi$[2]): 3.590053025128496,\n",
      "                              ParameterVectorElement($\\psi$[0]): -3.6977276189127384,\n",
      "                              ParameterVectorElement($\\phi$[15]): 0.012763816624477415,\n",
      "                              ParameterVectorElement($\\phi$[1]): 1.6326494973880776,\n",
      "                              ParameterVectorElement($\\phi$[12]): 1.4839698739268306,\n",
      "                              ParameterVectorElement($\\phi$[11]): 0.01896677173383227,\n",
      "                              ParameterVectorElement($\\phi$[10]): 1.6003798678297152,\n",
      "                              ParameterVectorElement($\\phi$[0]): 3.1400451045310476,\n",
      "                              ParameterVectorElement($\\phi$[6]): 3.1446256879915495,\n",
      "                              ParameterVectorElement($\\phi$[3]): 1.7394840364280566,\n",
      "                              ParameterVectorElement($\\phi$[5]): 3.9005414468708137,\n",
      "                              ParameterVectorElement($\\phi$[4]): 3.140418510808723,\n",
      "                              ParameterVectorElement($\\phi$[2]): 3.136585313609876,\n",
      "                              ParameterVectorElement($\\phi$[13]): 3.139204087765279,\n",
      "                              ParameterVectorElement($\\phi$[14]): -0.8490090546806341,\n",
      "                              ParameterVectorElement($\\phi$[9]): 3.139701665711465,\n",
      "                              ParameterVectorElement($\\phi$[8]): -0.6652870885789749,\n",
      "                              ParameterVectorElement($\\phi$[7]): 1.766449108642328},\n",
      "    'optimal_point': array([ 3.1400451 ,  1.6326495 ,  3.13658531,  1.73948404,  3.14041851,\n",
      "        3.90054145,  3.14462569,  1.76644911, -0.66528709,  3.13970167,\n",
      "        1.60037987,  0.01896677,  1.48396987,  3.13920409, -0.84900905,\n",
      "        0.01276382, -3.69772762,  1.87039404,  3.59005303,  1.65918447]),\n",
      "    'optimal_value': -8.84156636508832,\n",
      "    'optimizer_evals': None,\n",
      "    'optimizer_time': 48.76434016227722}\n"
     ]
    }
   ],
   "source": [
    "print(result)"
   ]
  },
  {
   "cell_type": "code",
   "execution_count": 21,
   "metadata": {
    "colab": {
     "base_uri": "https://localhost:8080/",
     "height": 283
    },
    "id": "valPtfLqJgJu",
    "outputId": "49d7a07a-447a-4940-d89c-09df4ab0d71d"
   },
   "outputs": [
    {
     "data": {
      "text/plain": [
       "[<matplotlib.lines.Line2D at 0x7fdd96794a10>]"
      ]
     },
     "execution_count": 21,
     "metadata": {},
     "output_type": "execute_result"
    },
    {
     "data": {
      "image/png": "[encoded data removed]",
      "text/plain": [
       "<Figure size 432x288 with 1 Axes>"
      ]
     },
     "metadata": {
      "needs_background": "light"
     },
     "output_type": "display_data"
    }
   ],
   "source": [
    "values, counts = hist\n",
    "plt.plot(counts, values)"
   ]
  },
  {
   "cell_type": "code",
   "execution_count": 22,
   "metadata": {
    "id": "l64WzPzeJgJu"
   },
   "outputs": [],
   "source": [
    "result, hist = find_E0(BeH2_op, np.random.uniform(low=0.5, high=2.0, size=(28,)),SLSQP(maxiter=1000))"
   ]
  },
  {
   "cell_type": "code",
   "execution_count": 23,
   "metadata": {
    "colab": {
     "base_uri": "https://localhost:8080/"
    },
    "id": "-gK9j_rqJgJv",
    "outputId": "0efd21c6-6429-470b-9b86-393f5918e692"
   },
   "outputs": [
    {
     "name": "stdout",
     "output_type": "stream",
     "text": [
      "Total_energy:  -15.561281207719034\n",
      "Ref: Total_energy:  -15.564454586481553\n"
     ]
    }
   ],
   "source": [
    "vqe_result = BeH2_problem.interpret(result).total_energies[0].real\n",
    "print(\"Total_energy: \", vqe_result)\n",
    "print(\"Ref: Total_energy: \", total_energy_solver(BeH2_problem, BeH2_converter))"
   ]
  },
  {
   "cell_type": "code",
   "execution_count": 24,
   "metadata": {
    "colab": {
     "base_uri": "https://localhost:8080/"
    },
    "id": "jFNEhGCNJgJv",
    "outputId": "01f72e21-9ddf-485e-ac0d-1327a45420c0"
   },
   "outputs": [
    {
     "name": "stdout",
     "output_type": "stream",
     "text": [
      "{   'aux_operator_eigenvalues': None,\n",
      "    'cost_function_evals': 1704,\n",
      "    'eigenstate': {'010101': 1.0},\n",
      "    'eigenvalue': (-19.021286048349804+0j),\n",
      "    'optimal_parameters': {   Parameter(t): 1.7229548874272416,\n",
      "                              ParameterVectorElement($\\phi$[19]): 0.03282305321653148,\n",
      "                              ParameterVectorElement($\\phi$[18]): 3.011875294396107,\n",
      "                              ParameterVectorElement($\\phi$[13]): 3.156005695402018,\n",
      "                              ParameterVectorElement($\\phi$[10]): 0.00298746787274407,\n",
      "                              ParameterVectorElement($\\phi$[11]): 2.2717899101688066,\n",
      "                              ParameterVectorElement($\\phi$[12]): 0.11829200172462283,\n",
      "                              ParameterVectorElement($\\phi$[14]): 0.7892017787215768,\n",
      "                              ParameterVectorElement($\\phi$[16]): 0.30946084751586433,\n",
      "                              ParameterVectorElement($\\phi$[15]): 0.017560365773597292,\n",
      "                              ParameterVectorElement($\\psi$[0]): 1.0463267479976033,\n",
      "                              ParameterVectorElement($\\phi$[23]): -0.0053612364278213314,\n",
      "                              ParameterVectorElement($\\phi$[22]): 1.8380322068828405,\n",
      "                              ParameterVectorElement($\\phi$[3]): 0.14732716072213606,\n",
      "                              ParameterVectorElement($\\phi$[2]): -0.0542724643856981,\n",
      "                              ParameterVectorElement($\\phi$[5]): 1.225600195257289,\n",
      "                              ParameterVectorElement($\\phi$[6]): -0.03834342970291997,\n",
      "                              ParameterVectorElement($\\phi$[1]): 0.20684891129874158,\n",
      "                              ParameterVectorElement($\\phi$[8]): 0.0029447319293962795,\n",
      "                              ParameterVectorElement($\\phi$[0]): 0.0010279362343255175,\n",
      "                              ParameterVectorElement($\\phi$[9]): 1.400166051610204,\n",
      "                              ParameterVectorElement($\\phi$[7]): 0.9272675334604596,\n",
      "                              ParameterVectorElement($\\phi$[4]): 0.012595144467395628,\n",
      "                              ParameterVectorElement($\\psi$[2]): 1.2572091643317536,\n",
      "                              ParameterVectorElement($\\psi$[1]): 1.2569657311075524,\n",
      "                              ParameterVectorElement($\\phi$[17]): 3.180645897422301,\n",
      "                              ParameterVectorElement($\\phi$[21]): -3.104840607004771,\n",
      "                              ParameterVectorElement($\\phi$[20]): 1.0012199392044332},\n",
      "    'optimal_point': array([ 1.02793623e-03,  2.06848911e-01, -5.42724644e-02,  1.47327161e-01,\n",
      "        1.25951445e-02,  1.22560020e+00, -3.83434297e-02,  9.27267533e-01,\n",
      "        2.94473193e-03,  1.40016605e+00,  2.98746787e-03,  2.27178991e+00,\n",
      "        1.18292002e-01,  3.15600570e+00,  7.89201779e-01,  1.75603658e-02,\n",
      "        3.09460848e-01,  3.18064590e+00,  3.01187529e+00,  3.28230532e-02,\n",
      "        1.00121994e+00, -3.10484061e+00,  1.83803221e+00, -5.36123643e-03,\n",
      "        1.04632675e+00,  1.25696573e+00,  1.25720916e+00,  1.72295489e+00]),\n",
      "    'optimal_value': -19.021286048349804,\n",
      "    'optimizer_evals': None,\n",
      "    'optimizer_time': 178.19078707695007}\n"
     ]
    }
   ],
   "source": [
    "print(result)"
   ]
  },
  {
   "cell_type": "markdown",
   "metadata": {},
   "source": [
    "The energy converges nicely"
   ]
  },
  {
   "cell_type": "code",
   "execution_count": 25,
   "metadata": {
    "colab": {
     "base_uri": "https://localhost:8080/",
     "height": 283
    },
    "id": "on-PEjQ2JgJv",
    "outputId": "9b451835-1c64-4aa9-c93d-f5a2f9b00968",
    "scrolled": true
   },
   "outputs": [
    {
     "data": {
      "text/plain": [
       "[<matplotlib.lines.Line2D at 0x7fdd93c89410>]"
      ]
     },
     "execution_count": 25,
     "metadata": {},
     "output_type": "execute_result"
    },
    {
     "data": {
      "image/png": "[encoded data removed]",
      "text/plain": [
       "<Figure size 432x288 with 1 Axes>"
      ]
     },
     "metadata": {
      "needs_background": "light"
     },
     "output_type": "display_data"
    }
   ],
   "source": [
    "values, counts = hist\n",
    "plt.plot(counts, values)"
   ]
  },
  {
   "cell_type": "code",
   "execution_count": 26,
   "metadata": {
    "ExecuteTime": {
     "end_time": "2022-08-15T06:03:10.104232Z",
     "start_time": "2022-08-15T06:03:09.990348Z"
    },
    "colab": {
     "base_uri": "https://localhost:8080/",
     "height": 140
    },
    "id": "SoMPIpzdJgJv",
    "outputId": "40b49e99-1c69-45e2-d637-5530c33d9b50"
   },
   "outputs": [
    {
     "data": {
      "image/png": "[encoded data removed]",
      "text/plain": [
       "<Figure size 507.852x144.48 with 1 Axes>"
      ]
     },
     "execution_count": 26,
     "metadata": {},
     "output_type": "execute_result"
    }
   ],
   "source": [
    "cirq = digital_analog_ansatz(H2_op,\"staggered\")\n",
    "cirq.draw(output=\"mpl\")"
   ]
  },
  {
   "cell_type": "code",
   "execution_count": 27,
   "metadata": {
    "colab": {
     "base_uri": "https://localhost:8080/",
     "height": 231
    },
    "id": "yZoddU4KJgJv",
    "outputId": "aa4b466e-f9ae-47de-ae07-575843528169"
   },
   "outputs": [
    {
     "data": {
      "image/png": "[encoded data removed]",
      "text/plain": [
       "<Figure size 869.197x264.88 with 1 Axes>"
      ]
     },
     "execution_count": 27,
     "metadata": {},
     "output_type": "execute_result"
    }
   ],
   "source": [
    "cirq = digital_analog_ansatz(LiH_op,\"staggered\")\n",
    "cirq.draw(output=\"mpl\")"
   ]
  },
  {
   "cell_type": "code",
   "execution_count": 28,
   "metadata": {
    "colab": {
     "base_uri": "https://localhost:8080/",
     "height": 322
    },
    "id": "CWOtPmYEJgJv",
    "outputId": "809b4def-cc44-4d47-d2ee-4289c64be185"
   },
   "outputs": [
    {
     "data": {
      "image/png": "[encoded data removed]",
      "text/plain": [
       "<Figure size 1230.4x385.28 with 1 Axes>"
      ]
     },
     "execution_count": 28,
     "metadata": {},
     "output_type": "execute_result"
    }
   ],
   "source": [
    "cirq = digital_analog_ansatz(BeH2_op,\"staggered\")\n",
    "cirq.draw(output=\"mpl\")"
   ]
  },
  {
   "cell_type": "code",
   "execution_count": 29,
   "metadata": {
    "ExecuteTime": {
     "end_time": "2022-08-15T06:03:20.544853Z",
     "start_time": "2022-08-15T06:03:20.500028Z"
    },
    "id": "mabk1F06JgJv"
   },
   "outputs": [],
   "source": [
    "result, hist = find_E0(LiH_op, np.random.uniform(low=0.5, high=2.0, size=(25,)),SLSQP(maxiter=1000),\"staggered\")"
   ]
  },
  {
   "cell_type": "markdown",
   "metadata": {
    "id": "OkgrR32BJgJw"
   },
   "source": [
    "We captured the energy values above during the convergence so we can see what went on in the graph below."
   ]
  },
  {
   "cell_type": "code",
   "execution_count": 30,
   "metadata": {
    "colab": {
     "base_uri": "https://localhost:8080/"
    },
    "id": "x-wbOr-aMiDo",
    "outputId": "fb98f4c7-d0c8-471b-9692-ff98998c23d0"
   },
   "outputs": [
    {
     "name": "stdout",
     "output_type": "stream",
     "text": [
      "Total_energy:  -7.863155699089711\n",
      "Ref: Total_energy:  -7.863471722862357\n"
     ]
    }
   ],
   "source": [
    "vqe_result = LiH_problem.interpret(result).total_energies[0].real\n",
    "print(\"Total_energy: \", vqe_result)\n",
    "print(\"Ref: Total_energy: \", total_energy_solver(LiH_problem, LiH_converter))"
   ]
  },
  {
   "cell_type": "code",
   "execution_count": 31,
   "metadata": {
    "colab": {
     "base_uri": "https://localhost:8080/"
    },
    "id": "TY4DoDMkM5dL",
    "outputId": "bef50ce8-b926-445e-e1fa-47eaffa45817"
   },
   "outputs": [
    {
     "name": "stdout",
     "output_type": "stream",
     "text": [
      "{   'aux_operator_eigenvalues': None,\n",
      "    'cost_function_evals': 844,\n",
      "    'eigenstate': {'0101': 1.0},\n",
      "    'eigenvalue': (-8.890684263982916+0j),\n",
      "    'optimal_parameters': {   ParameterVectorElement($\\phi$[8]): 1.2822995946312854,\n",
      "                              ParameterVectorElement($\\phi$[14]): 1.5985518739168363,\n",
      "                              ParameterVectorElement($\\phi$[15]): 0.7918067445148246,\n",
      "                              ParameterVectorElement($\\psi$[1]): 1.1831494178377833,\n",
      "                              ParameterVectorElement($\\phi$[13]): 1.1913188251584508,\n",
      "                              ParameterVectorElement($\\psi$[0]): 1.959658977741982,\n",
      "                              ParameterVectorElement($\\psi$[2]): 0.3886750020135539,\n",
      "                              ParameterVectorElement($\\psi$[3]): 0.2060470167995404,\n",
      "                              ParameterVectorElement($\\psi$[4]): -0.004019878641179327,\n",
      "                              ParameterVectorElement($\\psi$[5]): 1.369172396434679,\n",
      "                              ParameterVectorElement($\\phi$[11]): 1.4089144022900388,\n",
      "                              ParameterVectorElement($\\phi$[10]): 1.422360340724397,\n",
      "                              ParameterVectorElement($\\phi$[9]): 1.8148290014569022,\n",
      "                              ParameterVectorElement($\\phi$[12]): 0.9509406580234074,\n",
      "                              ParameterVectorElement($\\phi$[7]): 1.4682249344458882,\n",
      "                              ParameterVectorElement($\\phi$[6]): 0.6200537834199066,\n",
      "                              ParameterVectorElement($\\phi$[0]): 1.8117092030118553,\n",
      "                              ParameterVectorElement($\\phi$[1]): 1.3032362781642386,\n",
      "                              ParameterVectorElement($\\phi$[2]): 1.3485102559851465,\n",
      "                              ParameterVectorElement($\\phi$[5]): 1.4573719341683313,\n",
      "                              ParameterVectorElement($\\phi$[3]): 1.8624664900199017,\n",
      "                              ParameterVectorElement($\\phi$[4]): 1.3254380073259708,\n",
      "                              ParameterVectorElement($\\psi$[6]): 1.8780404409584177,\n",
      "                              ParameterVectorElement($\\psi$[7]): 1.6995825974184233,\n",
      "                              ParameterVectorElement($\\psi$[8]): 1.3359882175230484},\n",
      "    'optimal_point': array([ 1.8117092 ,  1.30323628,  1.34851026,  1.86246649,  1.32543801,\n",
      "        1.45737193,  0.62005378,  1.46822493,  1.28229959,  1.814829  ,\n",
      "        1.42236034,  1.4089144 ,  0.95094066,  1.19131883,  1.59855187,\n",
      "        0.79180674,  1.95965898,  1.18314942,  0.388675  ,  0.20604702,\n",
      "       -0.00401988,  1.3691724 ,  1.87804044,  1.6995826 ,  1.33598822]),\n",
      "    'optimal_value': -8.890684263982916,\n",
      "    'optimizer_evals': None,\n",
      "    'optimizer_time': 63.205020904541016}\n"
     ]
    }
   ],
   "source": [
    "print(result)"
   ]
  },
  {
   "cell_type": "code",
   "execution_count": 32,
   "metadata": {
    "id": "hZS_KomMNtP5"
   },
   "outputs": [],
   "source": [
    "result, hist = find_E0(BeH2_op, np.random.uniform(low=0.5, high=2.0, size=(39,)),SLSQP(maxiter=1000),entanglement = \"staggered\")"
   ]
  },
  {
   "cell_type": "markdown",
   "metadata": {},
   "source": [
    "## The convergence is better for the staggered case."
   ]
  },
  {
   "cell_type": "code",
   "execution_count": 33,
   "metadata": {
    "colab": {
     "base_uri": "https://localhost:8080/"
    },
    "id": "7PFDP4_7Qo-D",
    "outputId": "ac8de47a-6ed3-4002-9d07-97bbf5953a25"
   },
   "outputs": [
    {
     "name": "stdout",
     "output_type": "stream",
     "text": [
      "Total_energy:  -15.564375409454719\n",
      "Ref: Total_energy:  -15.564454586481478\n"
     ]
    }
   ],
   "source": [
    "vqe_result = BeH2_problem.interpret(result).total_energies[0].real\n",
    "print(\"Total_energy: \", vqe_result)\n",
    "print(\"Ref: Total_energy: \", total_energy_solver(BeH2_problem, BeH2_converter))"
   ]
  }
 ],
 "metadata": {
  "colab": {
   "collapsed_sections": [
    "DDTraDYhJgJw"
   ],
   "name": "Digital_Analog_VQE (1).ipynb",
   "provenance": []
  },
  "hide_input": false,
  "kernelspec": {
   "display_name": "Python 3 (ipykernel)",
   "language": "python",
   "name": "python3"
  },
  "language_info": {
   "codemirror_mode": {
    "name": "ipython",
    "version": 3
   },
   "file_extension": ".py",
   "mimetype": "text/x-python",
   "name": "python",
   "nbconvert_exporter": "python",
   "pygments_lexer": "ipython3",
   "version": "3.9.12"
  },
  "nbTranslate": {
   "displayLangs": [
    "*"
   ],
   "hotkey": "alt-t",
   "langInMainMenu": true,
   "sourceLang": "en",
   "targetLang": "fr",
   "useGoogleTranslate": true
  },
  "toc": {
   "base_numbering": 1,
   "nav_menu": {},
   "number_sections": true,
   "sideBar": true,
   "skip_h1_title": false,
   "title_cell": "Table of Contents",
   "title_sidebar": "Contents",
   "toc_cell": false,
   "toc_position": {},
   "toc_section_display": true,
   "toc_window_display": false
  },
  "varInspector": {
   "cols": {
    "lenName": 16,
    "lenType": 16,
    "lenVar": 40
   },
   "kernels_config": {
    "python": {
     "delete_cmd_postfix": "",
     "delete_cmd_prefix": "del ",
     "library": "var_list.py",
     "varRefreshCmd": "print(var_dic_list())"
    },
    "r": {
     "delete_cmd_postfix": ") ",
     "delete_cmd_prefix": "rm(",
     "library": "var_list.r",
     "varRefreshCmd": "cat(var_dic_list()) "
    }
   },
   "types_to_exclude": [
    "module",
    "function",
    "builtin_function_or_method",
    "instance",
    "_Feature"
   ],
   "window_display": false
  },
  "vscode": {
   "interpreter": {
    "hash": "aee8b7b246df8f9039afb4144a1f6fd8d2ca17a180786b69acc140d282b71a49"
   }
  }
 },
 "nbformat": 4,
 "nbformat_minor": 1
}
