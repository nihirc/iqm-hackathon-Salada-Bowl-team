{
 "cells": [
  {
   "cell_type": "markdown",
   "metadata": {
    "id": "F_-1EhAXJgJf"
   },
   "source": [
    "## Digital-analog variational quantum eigensolver(DAVQE)\n"
   ]
  },
  {
   "cell_type": "code",
   "execution_count": 44,
   "metadata": {
    "colab": {
     "base_uri": "https://localhost:8080/"
    },
    "id": "HS1zHGylJoCc",
    "outputId": "4f1a90bf-0ba9-4bdf-c983-3f14b16c0bf3"
   },
   "outputs": [
    {
     "name": "stdout",
     "output_type": "stream",
     "text": [
      "Looking in indexes: https://pypi.org/simple, https://us-python.pkg.dev/colab-wheels/public/simple/\n",
      "Requirement already satisfied: qiskit in /usr/local/lib/python3.7/dist-packages (0.37.1)\n",
      "Requirement already satisfied: qiskit-ibmq-provider==0.19.2 in /usr/local/lib/python3.7/dist-packages (from qiskit) (0.19.2)\n",
      "Requirement already satisfied: qiskit-terra==0.21.1 in /usr/local/lib/python3.7/dist-packages (from qiskit) (0.21.1)\n",
      "Requirement already satisfied: qiskit-aer==0.10.4 in /usr/local/lib/python3.7/dist-packages (from qiskit) (0.10.4)\n",
      "Requirement already satisfied: numpy>=1.16.3 in /usr/local/lib/python3.7/dist-packages (from qiskit-aer==0.10.4->qiskit) (1.21.6)\n",
      "Requirement already satisfied: scipy>=1.0 in /usr/local/lib/python3.7/dist-packages (from qiskit-aer==0.10.4->qiskit) (1.7.3)\n",
      "Requirement already satisfied: requests>=2.19 in /usr/local/lib/python3.7/dist-packages (from qiskit-ibmq-provider==0.19.2->qiskit) (2.23.0)\n",
      "Requirement already satisfied: requests-ntlm>=1.1.0 in /usr/local/lib/python3.7/dist-packages (from qiskit-ibmq-provider==0.19.2->qiskit) (1.1.0)\n",
      "Requirement already satisfied: python-dateutil>=2.8.0 in /usr/local/lib/python3.7/dist-packages (from qiskit-ibmq-provider==0.19.2->qiskit) (2.8.2)\n",
      "Requirement already satisfied: urllib3>=1.21.1 in /usr/local/lib/python3.7/dist-packages (from qiskit-ibmq-provider==0.19.2->qiskit) (1.24.3)\n",
      "Requirement already satisfied: websocket-client>=1.0.1 in /usr/local/lib/python3.7/dist-packages (from qiskit-ibmq-provider==0.19.2->qiskit) (1.3.3)\n",
      "Requirement already satisfied: websockets>=10.0 in /usr/local/lib/python3.7/dist-packages (from qiskit-ibmq-provider==0.19.2->qiskit) (10.3)\n",
      "Requirement already satisfied: ply>=3.10 in /usr/local/lib/python3.7/dist-packages (from qiskit-terra==0.21.1->qiskit) (3.11)\n",
      "Requirement already satisfied: psutil>=5 in /usr/local/lib/python3.7/dist-packages (from qiskit-terra==0.21.1->qiskit) (5.4.8)\n",
      "Requirement already satisfied: typing-extensions in /usr/local/lib/python3.7/dist-packages (from qiskit-terra==0.21.1->qiskit) (4.1.1)\n",
      "Requirement already satisfied: stevedore>=3.0.0 in /usr/local/lib/python3.7/dist-packages (from qiskit-terra==0.21.1->qiskit) (3.5.0)\n",
      "Requirement already satisfied: tweedledum<2.0,>=1.1 in /usr/local/lib/python3.7/dist-packages (from qiskit-terra==0.21.1->qiskit) (1.1.1)\n",
      "Requirement already satisfied: symengine>=0.9 in /usr/local/lib/python3.7/dist-packages (from qiskit-terra==0.21.1->qiskit) (0.9.2)\n",
      "Requirement already satisfied: shared-memory38 in /usr/local/lib/python3.7/dist-packages (from qiskit-terra==0.21.1->qiskit) (0.1.2)\n",
      "Requirement already satisfied: dill>=0.3 in /usr/local/lib/python3.7/dist-packages (from qiskit-terra==0.21.1->qiskit) (0.3.5.1)\n",
      "Requirement already satisfied: retworkx>=0.11.0 in /usr/local/lib/python3.7/dist-packages (from qiskit-terra==0.21.1->qiskit) (0.11.0)\n",
      "Requirement already satisfied: sympy>=1.3 in /usr/local/lib/python3.7/dist-packages (from qiskit-terra==0.21.1->qiskit) (1.7.1)\n",
      "Requirement already satisfied: six>=1.5 in /usr/local/lib/python3.7/dist-packages (from python-dateutil>=2.8.0->qiskit-ibmq-provider==0.19.2->qiskit) (1.15.0)\n",
      "Requirement already satisfied: certifi>=2017.4.17 in /usr/local/lib/python3.7/dist-packages (from requests>=2.19->qiskit-ibmq-provider==0.19.2->qiskit) (2022.6.15)\n",
      "Requirement already satisfied: idna<3,>=2.5 in /usr/local/lib/python3.7/dist-packages (from requests>=2.19->qiskit-ibmq-provider==0.19.2->qiskit) (2.10)\n",
      "Requirement already satisfied: chardet<4,>=3.0.2 in /usr/local/lib/python3.7/dist-packages (from requests>=2.19->qiskit-ibmq-provider==0.19.2->qiskit) (3.0.4)\n",
      "Requirement already satisfied: ntlm-auth>=1.0.2 in /usr/local/lib/python3.7/dist-packages (from requests-ntlm>=1.1.0->qiskit-ibmq-provider==0.19.2->qiskit) (1.5.0)\n",
      "Requirement already satisfied: cryptography>=1.3 in /usr/local/lib/python3.7/dist-packages (from requests-ntlm>=1.1.0->qiskit-ibmq-provider==0.19.2->qiskit) (37.0.4)\n",
      "Requirement already satisfied: cffi>=1.12 in /usr/local/lib/python3.7/dist-packages (from cryptography>=1.3->requests-ntlm>=1.1.0->qiskit-ibmq-provider==0.19.2->qiskit) (1.15.1)\n",
      "Requirement already satisfied: pycparser in /usr/local/lib/python3.7/dist-packages (from cffi>=1.12->cryptography>=1.3->requests-ntlm>=1.1.0->qiskit-ibmq-provider==0.19.2->qiskit) (2.21)\n",
      "Requirement already satisfied: pbr!=2.1.0,>=2.0.0 in /usr/local/lib/python3.7/dist-packages (from stevedore>=3.0.0->qiskit-terra==0.21.1->qiskit) (5.10.0)\n",
      "Requirement already satisfied: importlib-metadata>=1.7.0 in /usr/local/lib/python3.7/dist-packages (from stevedore>=3.0.0->qiskit-terra==0.21.1->qiskit) (4.12.0)\n",
      "Requirement already satisfied: zipp>=0.5 in /usr/local/lib/python3.7/dist-packages (from importlib-metadata>=1.7.0->stevedore>=3.0.0->qiskit-terra==0.21.1->qiskit) (3.8.1)\n",
      "Requirement already satisfied: mpmath>=0.19 in /usr/local/lib/python3.7/dist-packages (from sympy>=1.3->qiskit-terra==0.21.1->qiskit) (1.2.1)\n",
      "Looking in indexes: https://pypi.org/simple, https://us-python.pkg.dev/colab-wheels/public/simple/\n",
      "Requirement already satisfied: pylatexenc in /usr/local/lib/python3.7/dist-packages (2.10)\n",
      "Looking in indexes: https://pypi.org/simple, https://us-python.pkg.dev/colab-wheels/public/simple/\n",
      "Requirement already satisfied: qiskit_nature in /usr/local/lib/python3.7/dist-packages (0.4.4)\n",
      "Requirement already satisfied: setuptools>=40.1.0 in /usr/local/lib/python3.7/dist-packages (from qiskit_nature) (57.4.0)\n",
      "Requirement already satisfied: scikit-learn>=0.20.0 in /usr/local/lib/python3.7/dist-packages (from qiskit_nature) (1.0.2)\n",
      "Requirement already satisfied: typing-extensions in /usr/local/lib/python3.7/dist-packages (from qiskit_nature) (4.1.1)\n",
      "Requirement already satisfied: psutil>=5 in /usr/local/lib/python3.7/dist-packages (from qiskit_nature) (5.4.8)\n",
      "Requirement already satisfied: qiskit-terra>=0.21.0 in /usr/local/lib/python3.7/dist-packages (from qiskit_nature) (0.21.1)\n",
      "Requirement already satisfied: retworkx>=0.10.1 in /usr/local/lib/python3.7/dist-packages (from qiskit_nature) (0.11.0)\n",
      "Requirement already satisfied: numpy>=1.17 in /usr/local/lib/python3.7/dist-packages (from qiskit_nature) (1.21.6)\n",
      "Requirement already satisfied: scipy>=1.4 in /usr/local/lib/python3.7/dist-packages (from qiskit_nature) (1.7.3)\n",
      "Requirement already satisfied: h5py in /usr/local/lib/python3.7/dist-packages (from qiskit_nature) (3.1.0)\n",
      "Requirement already satisfied: shared-memory38 in /usr/local/lib/python3.7/dist-packages (from qiskit-terra>=0.21.0->qiskit_nature) (0.1.2)\n",
      "Requirement already satisfied: sympy>=1.3 in /usr/local/lib/python3.7/dist-packages (from qiskit-terra>=0.21.0->qiskit_nature) (1.7.1)\n",
      "Requirement already satisfied: dill>=0.3 in /usr/local/lib/python3.7/dist-packages (from qiskit-terra>=0.21.0->qiskit_nature) (0.3.5.1)\n",
      "Requirement already satisfied: python-dateutil>=2.8.0 in /usr/local/lib/python3.7/dist-packages (from qiskit-terra>=0.21.0->qiskit_nature) (2.8.2)\n",
      "Requirement already satisfied: stevedore>=3.0.0 in /usr/local/lib/python3.7/dist-packages (from qiskit-terra>=0.21.0->qiskit_nature) (3.5.0)\n",
      "Requirement already satisfied: symengine>=0.9 in /usr/local/lib/python3.7/dist-packages (from qiskit-terra>=0.21.0->qiskit_nature) (0.9.2)\n",
      "Requirement already satisfied: tweedledum<2.0,>=1.1 in /usr/local/lib/python3.7/dist-packages (from qiskit-terra>=0.21.0->qiskit_nature) (1.1.1)\n",
      "Requirement already satisfied: ply>=3.10 in /usr/local/lib/python3.7/dist-packages (from qiskit-terra>=0.21.0->qiskit_nature) (3.11)\n",
      "Requirement already satisfied: six>=1.5 in /usr/local/lib/python3.7/dist-packages (from python-dateutil>=2.8.0->qiskit-terra>=0.21.0->qiskit_nature) (1.15.0)\n",
      "Requirement already satisfied: joblib>=0.11 in /usr/local/lib/python3.7/dist-packages (from scikit-learn>=0.20.0->qiskit_nature) (1.1.0)\n",
      "Requirement already satisfied: threadpoolctl>=2.0.0 in /usr/local/lib/python3.7/dist-packages (from scikit-learn>=0.20.0->qiskit_nature) (3.1.0)\n",
      "Requirement already satisfied: importlib-metadata>=1.7.0 in /usr/local/lib/python3.7/dist-packages (from stevedore>=3.0.0->qiskit-terra>=0.21.0->qiskit_nature) (4.12.0)\n",
      "Requirement already satisfied: pbr!=2.1.0,>=2.0.0 in /usr/local/lib/python3.7/dist-packages (from stevedore>=3.0.0->qiskit-terra>=0.21.0->qiskit_nature) (5.10.0)\n",
      "Requirement already satisfied: zipp>=0.5 in /usr/local/lib/python3.7/dist-packages (from importlib-metadata>=1.7.0->stevedore>=3.0.0->qiskit-terra>=0.21.0->qiskit_nature) (3.8.1)\n",
      "Requirement already satisfied: mpmath>=0.19 in /usr/local/lib/python3.7/dist-packages (from sympy>=1.3->qiskit-terra>=0.21.0->qiskit_nature) (1.2.1)\n",
      "Requirement already satisfied: cached-property in /usr/local/lib/python3.7/dist-packages (from h5py->qiskit_nature) (1.5.2)\n",
      "Looking in indexes: https://pypi.org/simple, https://us-python.pkg.dev/colab-wheels/public/simple/\n",
      "Requirement already satisfied: qutip in /usr/local/lib/python3.7/dist-packages (4.7.0)\n",
      "Requirement already satisfied: scipy>=1.0 in /usr/local/lib/python3.7/dist-packages (from qutip) (1.7.3)\n",
      "Requirement already satisfied: numpy>=1.16.6 in /usr/local/lib/python3.7/dist-packages (from qutip) (1.21.6)\n",
      "Requirement already satisfied: packaging in /usr/local/lib/python3.7/dist-packages (from qutip) (21.3)\n",
      "Requirement already satisfied: pyparsing!=3.0.5,>=2.0.2 in /usr/local/lib/python3.7/dist-packages (from packaging->qutip) (3.0.9)\n",
      "Looking in indexes: https://pypi.org/simple, https://us-python.pkg.dev/colab-wheels/public/simple/\n",
      "Requirement already satisfied: pyscf in /usr/local/lib/python3.7/dist-packages (2.0.1)\n",
      "Requirement already satisfied: scipy!=1.5.0,!=1.5.1 in /usr/local/lib/python3.7/dist-packages (from pyscf) (1.7.3)\n",
      "Requirement already satisfied: h5py>=2.7 in /usr/local/lib/python3.7/dist-packages (from pyscf) (3.1.0)\n",
      "Requirement already satisfied: numpy!=1.16,!=1.17,>=1.13 in /usr/local/lib/python3.7/dist-packages (from pyscf) (1.21.6)\n",
      "Requirement already satisfied: cached-property in /usr/local/lib/python3.7/dist-packages (from h5py>=2.7->pyscf) (1.5.2)\n"
     ]
    }
   ],
   "source": [
    "!pip install qiskit\n",
    "!pip install pylatexenc\n",
    "!pip install qiskit_nature\n",
    "!pip install qutip\n",
    "!pip install pyscf"
   ]
  },
  {
   "cell_type": "code",
   "execution_count": 3,
   "metadata": {
    "ExecuteTime": {
     "end_time": "2022-08-15T07:10:57.834702Z",
     "start_time": "2022-08-15T07:10:56.976256Z"
    },
    "id": "PEl1GjPUJgJk"
   },
   "outputs": [],
   "source": [
    "from DA_VQE import *"
   ]
  },
  {
   "cell_type": "markdown",
   "metadata": {
    "id": "d57P6Dy1JgJl"
   },
   "source": [
    "This notebook is aimed to solve the ground state energy of the hydrogen molecule by using Digital-analog variational quantum eigensolver(DA-VQE). In conventional VQE, entanglement of qubits is performed by the digital control gates such as CX gates.\n",
    "\n",
    "DA-VQE, on the other hand, employs a time-evolution operator $U(t) = e^{iH't}$. $H'$ usually consists of the two-spin interactions, which is distinct from the target Hamiltonian $H$ for optimization.\n",
    "\n",
    "\n",
    "First, we define the two-qubit hamiltonian $H$."
   ]
  },
  {
   "cell_type": "code",
   "execution_count": 45,
   "metadata": {
    "colab": {
     "base_uri": "https://localhost:8080/"
    },
    "id": "EK4M0AeLJgJl",
    "outputId": "cd370419-c871-4633-8db2-44fd175ab6dc",
    "scrolled": true
   },
   "outputs": [
    {
     "name": "stdout",
     "output_type": "stream",
     "text": [
      "The atomic distance is  1.545 Å\n",
      "Number of qubits: 4\n",
      "Bonding energy value: -8.89100\n",
      "Total energy: -7.86347\n"
     ]
    }
   ],
   "source": [
    "LiH_op, LiH_problem, LiH_converter = load_Molecule(\"LiH\")\n",
    "print(f'Number of qubits: {LiH_op.num_qubits}')\n",
    "ref_value = energy_solver(LiH_op)\n",
    "print(f'Bonding energy value: {ref_value:.5f}')\n",
    "ref_value = total_energy_solver(LiH_problem, LiH_converter)\n",
    "print(f'Total energy: {ref_value:.5f}')"
   ]
  },
  {
   "cell_type": "code",
   "execution_count": 46,
   "metadata": {
    "colab": {
     "base_uri": "https://localhost:8080/"
    },
    "id": "a_g7WRSxJgJm",
    "outputId": "8fcb3915-81da-4487-dca8-5c989c1fac28"
   },
   "outputs": [
    {
     "name": "stdout",
     "output_type": "stream",
     "text": [
      "The atomic distance is  0.735 Å\n",
      "Number of qubits: 2\n",
      "Bonding energy value: -1.85728\n",
      "Total energy(core repulsion included): -1.13731\n"
     ]
    }
   ],
   "source": [
    "H2_op, H2_problem, H2_converter = load_Molecule(\"H2\")\n",
    "print(f'Number of qubits: {H2_op.num_qubits}')\n",
    "ref_value = energy_solver(H2_op)\n",
    "print(f'Bonding energy value: {ref_value:.5f}')\n",
    "ref_value = total_energy_solver(H2_problem, H2_converter)\n",
    "print(f'Total energy(core repulsion included): {ref_value:.5f}')"
   ]
  },
  {
   "cell_type": "code",
   "execution_count": 47,
   "metadata": {
    "colab": {
     "base_uri": "https://localhost:8080/"
    },
    "id": "oiiM0_X8JgJn",
    "outputId": "a8f07738-d17e-44d1-c571-16f3e30da06e",
    "scrolled": true
   },
   "outputs": [
    {
     "name": "stdout",
     "output_type": "stream",
     "text": [
      "The atomic distance is  1.3 Å\n",
      "Number of qubits: 6\n",
      "Bonding energy value: -19.02446\n",
      "Total energy: -15.56445\n"
     ]
    }
   ],
   "source": [
    "BeH2_op, BeH2_problem, BeH2_converter = load_Molecule(\"BeH2\")\n",
    "print(f'Number of qubits: {BeH2_op.num_qubits}')\n",
    "ref_value = energy_solver(BeH2_op)\n",
    "print(f'Bonding energy value: {ref_value:.5f}')\n",
    "ref_value = total_energy_solver(BeH2_problem, BeH2_converter)\n",
    "print(f'Total energy: {ref_value:.5f}')"
   ]
  },
  {
   "cell_type": "markdown",
   "metadata": {
    "id": "trdqQIEnJgJo"
   },
   "source": [
    "As the above problem is still easily tractable classically we can use NumPyMinimumEigensolver to compute a reference value so we can compare later the results. "
   ]
  },
  {
   "cell_type": "markdown",
   "metadata": {
    "id": "rXAfwEaAJgJo"
   },
   "source": [
    "## Performance *without* noise\n",
    "\n",
    "First we will run on the simulator without adding noise to see the result. I have created the backend and QuantumInstance, which holds the backend as well as various other run time configuration, which are defaulted here, so it easy to compare when we get to the next section where noise is added. There is no attempt to mitigate noise or anything in this notebook so the latter setup and running of VQE is identical."
   ]
  },
  {
   "cell_type": "code",
   "execution_count": 48,
   "metadata": {
    "ExecuteTime": {
     "end_time": "2022-08-15T06:02:07.990340Z",
     "start_time": "2022-08-15T06:02:07.984585Z"
    },
    "id": "YXtdmSWnJgJp"
   },
   "outputs": [],
   "source": [
    "seed = 175\n",
    "iterations = 125\n",
    "algorithm_globals.random_seed = seed\n",
    "backend = Aer.get_backend('aer_simulator')\n",
    "qi = QuantumInstance(backend=backend, seed_simulator=seed, seed_transpiler=seed,shots=8192) \n",
    "#num_qubits = 2\n",
    "#num_qubits = 4"
   ]
  },
  {
   "cell_type": "markdown",
   "metadata": {
    "id": "7B8NuHlZJgJp"
   },
   "source": [
    "## Time-evolution operator $U(t)$\n",
    "Note that this time-evolving Hamiltonian is not the Hamiltonian we want to optimize. (non-commutative with the target Hamiltonian for optimizing)<- This might be wrong!\n",
    "\n",
    "\n",
    "The ground state wave function is an eigenstate of the optimizing hamiltonian with the eigenvalue $E_0$. Then, the time evolving operator $U(t) = e^{iH't}$ acting on the ground state part only gets the phase. We want, on the other hand, the hopping between the energy states so the coefficients <GS|ψ(θ)> becomes maximum."
   ]
  },
  {
   "cell_type": "code",
   "execution_count": 49,
   "metadata": {
    "ExecuteTime": {
     "end_time": "2022-08-15T06:02:09.411048Z",
     "start_time": "2022-08-15T06:02:09.389149Z"
    },
    "id": "QOapqEpOJgJq"
   },
   "outputs": [],
   "source": [
    "from numbers import Number\n",
    "import numpy\n",
    "\n",
    "from qiskit.circuit import Gate, QuantumCircuit, QuantumRegister, ParameterExpression\n",
    "from qiskit.quantum_info.operators.predicates import matrix_equal\n",
    "from qiskit.quantum_info.operators.predicates import is_hermitian_matrix\n",
    "from qiskit.extensions.exceptions import ExtensionError\n",
    "from qiskit.circuit.exceptions import CircuitError\n",
    "\n",
    "from qiskit.circuit import Parameter, QuantumCircuit, QuantumRegister, ParameterVector\n",
    "\n",
    "\n",
    "from qiskit.extensions.unitary import UnitaryGate\n",
    "\n",
    "# This code is based on https://github.com/Qiskit/qiskit-terra/blob/main/qiskit/extensions/hamiltonian_gate.py licenced under Apache licence.\n",
    "class CustomHamiltonianGate(Gate):\n",
    "    def __init__(self, time, num_qubits, connectivity, h_coeffs, label=None):\n",
    "        if isinstance(time, Number) and time != numpy.real(time):\n",
    "            raise ExtensionError(\"Evolution time is not real.\")\n",
    "       \n",
    "        self.num_qubits = num_qubits\n",
    "        self.connectivity = connectivity\n",
    "        self.h_coeff1 = h_coeffs[0]\n",
    "        self.h_coeff2 = h_coeffs[1]\n",
    "        self.h_coeff3 = h_coeffs[2]\n",
    "        # Store instruction params\n",
    "        super().__init__(\"custom_hamiltonian\", num_qubits, [time, num_qubits, connectivity, h_coeffs[0], h_coeffs[1], h_coeffs[2]], label=label)\n",
    "        # note that params[0] is time, params[1] is num_qubits, params[2] is connectivity\n",
    "        # params[3] is h_coeff1, params[4] is h_coeff2, params[5] is h_coeff3\n",
    "\n",
    "    def __array__(self, dtype=None):\n",
    "        \"\"\"Return matrix for the unitary.\"\"\"\n",
    "        # pylint: disable=unused-argument\n",
    "        import scipy.linalg\n",
    "\n",
    "        try:\n",
    "            return scipy.linalg.expm(-1j * self.get_ham() * float(self.params[0]))\n",
    "        except TypeError as ex:\n",
    "            raise TypeError(\n",
    "                \"Unable to generate Unitary matrix for \"\n",
    "                \"unbound t parameter {}\".format(self.params[1])\n",
    "            ) from ex\n",
    "\n",
    "    def _define(self):\n",
    "        \"\"\"Calculate a subcircuit that implements this unitary.\"\"\"\n",
    "        q = QuantumRegister(self.num_qubits, \"q\")\n",
    "        qc = QuantumCircuit(q, name=self.name)\n",
    "        qc._append(UnitaryGate(self.to_matrix()), q[:], [])\n",
    "        self.definition = qc\n",
    "\n",
    "    def validate_parameter(self, parameter):\n",
    "        return parameter\n",
    "\n",
    "    def get_ham(self):\n",
    "        dim = 2 ** self.num_qubits\n",
    "        num_connections = len(self.connectivity)\n",
    "        zz_hamiltonian = np.zeros([dim, dim], dtype=np.complex128)\n",
    "        xx_hamiltonian = np.zeros([dim, dim], dtype=np.complex128)   # modification to add sigma_x interactions\n",
    "        yy_hamiltonian = np.zeros([dim, dim], dtype=np.complex128)   # modification to add sigma_y interactions\n",
    "\n",
    "        for c in range(num_connections):\n",
    "            ops_to_tensor = [qt.identity(2)] * self.num_qubits\n",
    "            ops_to_tensor[self.connectivity[c][0]] = qt.sigmaz()\n",
    "            ops_to_tensor[self.connectivity[c][1]] = qt.sigmaz()\n",
    "            zz_hamiltonian += float(self.params[3]) * np.array(qt.tensor(ops_to_tensor)) #+= \n",
    "        # repeat for xx and yy interaction hamiltonian. Note that we will change the params[] index    \n",
    "        for c in range(num_connections):\n",
    "            ops_to_tensor = [qt.identity(2)] * self.num_qubits\n",
    "            ops_to_tensor[self.connectivity[c][0]] = qt.sigmax()\n",
    "            ops_to_tensor[self.connectivity[c][1]] = qt.sigmax()\n",
    "            xx_hamiltonian += float(self.params[4]) * np.array(qt.tensor(ops_to_tensor)) \n",
    "        for c in range(num_connections):\n",
    "            ops_to_tensor = [qt.identity(2)] * self.num_qubits\n",
    "            ops_to_tensor[self.connectivity[c][0]] = qt.sigmay()\n",
    "            ops_to_tensor[self.connectivity[c][1]] = qt.sigmay()\n",
    "            yy_hamiltonian += float(self.params[5]) * np.array(qt.tensor(ops_to_tensor)) \n",
    "            # now assemble the full hamiltonian\n",
    "        hamiltonian = zz_hamiltonian + xx_hamiltonian + yy_hamiltonian    \n",
    "        return hamiltonian\n",
    "\n",
    "def custom_hamiltonian(self, time, connectivity, h_coeffs, qubits, label=None):\n",
    "    \"\"\"Apply hamiltonian evolution to qubits.\"\"\"\n",
    "    if not isinstance(qubits, list):\n",
    "        qubits = [qubits]\n",
    "\n",
    "    return self.append(CustomHamiltonianGate(time=time, num_qubits=len(qubits), connectivity=connectivity, h_coeffs = h_coeffs, label=label), qubits, [])\n",
    "\n",
    "\n",
    "QuantumCircuit.custom_hamiltonian = custom_hamiltonian"
   ]
  },
  {
   "cell_type": "markdown",
   "metadata": {
    "id": "sRnixVfiJgJr"
   },
   "source": [
    "Another option would be to create your own ansatz instead of using on of the predefined ones like TwoLocal. This is especially handy when you want to create an ansatz with analog blocks later."
   ]
  },
  {
   "cell_type": "code",
   "execution_count": 50,
   "metadata": {
    "id": "Wns_dhEKJgJr"
   },
   "outputs": [],
   "source": [
    "def digital_analog_ansatz_Ising(Operator, entanglement = \"entire\"):\n",
    "    # First we need to define variational parameters (at least one) phi[...]\n",
    "    n_qubits = Operator.num_qubits\n",
    "    phi = ParameterVector(\"$\\phi$\", 4 * n_qubits)\n",
    "    \n",
    "    if entanglement == \"entire\":\n",
    "        t = Parameter(\"t\")\n",
    "        psi = [Parameter(\"$\\psi$\"), 0, 0]\n",
    "        connectivity_arr = []\n",
    "        qubits_arr = [0]\n",
    "        for i in range(n_qubits - 1):\n",
    "            connectivity_arr.append([i, i+1])\n",
    "            qubits_arr.append(i+1)\n",
    "    \n",
    "    if entanglement == \"staggered\":\n",
    "        psi = []\n",
    "        psi_Z = ParameterVector(\"$\\psi$\", (n_qubits - 1))\n",
    "        for i in range(n_qubits - 1):\n",
    "            psi.append(psi_Z[i])\n",
    "            psi.append(0)\n",
    "            psi.append(0)\n",
    "\n",
    "    # Create a quantum circuit that is used for the ansatz\n",
    "    ansatz = QuantumCircuit(n_qubits)\n",
    "    #circuit\n",
    "    for i in range(n_qubits):\n",
    "        ansatz.rx(phi[2*i], i)\n",
    "        ansatz.rz(phi[2*i+1], i)\n",
    "    if entanglement == \"entire\":\n",
    "        ansatz.custom_hamiltonian(connectivity=connectivity_arr, h_coeffs=psi, time=t , qubits=qubits_arr,label='Analog block')\n",
    "    if entanglement == \"staggered\":\n",
    "        for i in range(n_qubits - 1):\n",
    "            ansatz.custom_hamiltonian(connectivity=[[0, 1]], h_coeffs= psi[3*i:3*i+3], time=1, qubits=[i,i+1], label='$U_{}(t)$'.format(i))\n",
    "    ##\n",
    "    for i in range(n_qubits):\n",
    "        ansatz.rz(phi[2*n_qubits+2*i], i)\n",
    "        ansatz.rx(phi[2*n_qubits+2*i+1], i)\n",
    "        \n",
    "    if entanglement == \"entire\":\n",
    "        ansatz.bind_parameters({t: 0.3})\n",
    "        ansatz.bind_parameters({psi[0]: 0.3})\n",
    "        ansatz.bind_parameters({psi[1]: 0.3})\n",
    "        ansatz.bind_parameters({psi[2]: 0.3})\n",
    "    if entanglement == \"staggered\":\n",
    "        for i in range(n_qubits -1):\n",
    "            ansatz.bind_parameters({psi[i]: 0.3})\n",
    "    return ansatz"
   ]
  },
  {
   "cell_type": "code",
   "execution_count": 51,
   "metadata": {
    "colab": {
     "base_uri": "https://localhost:8080/",
     "height": 140
    },
    "id": "D8zs7_ipJgJs",
    "outputId": "b216f33b-b8a9-4418-815f-d695f2531f09",
    "scrolled": true
   },
   "outputs": [
    {
     "data": {
      "image/png": "[encoded data removed]",
      "text/plain": [
       "<Figure size 507.852x144.48 with 1 Axes>"
      ]
     },
     "execution_count": 51,
     "metadata": {},
     "output_type": "execute_result"
    }
   ],
   "source": [
    "cirq = digital_analog_ansatz_Ising(H2_op)\n",
    "cirq.draw(output=\"mpl\")"
   ]
  },
  {
   "cell_type": "code",
   "execution_count": 52,
   "metadata": {
    "colab": {
     "base_uri": "https://localhost:8080/",
     "height": 231
    },
    "id": "tYaHPburJgJs",
    "outputId": "009960ed-e041-4f1c-e184-f3afa90a1343",
    "scrolled": true
   },
   "outputs": [
    {
     "data": {
      "image/png": "[encoded data removed]",
      "text/plain": [
       "<Figure size 568.197x264.88 with 1 Axes>"
      ]
     },
     "execution_count": 52,
     "metadata": {},
     "output_type": "execute_result"
    }
   ],
   "source": [
    "cirq = digital_analog_ansatz_Ising(LiH_op)\n",
    "cirq.draw(output=\"mpl\")"
   ]
  },
  {
   "cell_type": "code",
   "execution_count": 53,
   "metadata": {
    "colab": {
     "base_uri": "https://localhost:8080/",
     "height": 322
    },
    "id": "KpDVgbBwJgJt",
    "outputId": "627999fc-9fe9-4a5f-c019-f1bb39a807ad"
   },
   "outputs": [
    {
     "data": {
      "image/png": "[encoded data removed]",
      "text/plain": [
       "<Figure size 628.397x385.28 with 1 Axes>"
      ]
     },
     "execution_count": 53,
     "metadata": {},
     "output_type": "execute_result"
    }
   ],
   "source": [
    "cirq = digital_analog_ansatz_Ising(BeH2_op)\n",
    "cirq.draw(output=\"mpl\")"
   ]
  },
  {
   "cell_type": "code",
   "execution_count": 54,
   "metadata": {
    "id": "41hOgeVfJgJt"
   },
   "outputs": [],
   "source": [
    "def find_E0(Operator, initial_pt, OPTIMIZER = SPSA(maxiter=iterations),entanglement=\"entire\"):\n",
    "    cirq = digital_analog_ansatz_Ising(Operator, entanglement)\n",
    "    #OPTIMIZER = SLSQP(maxiter=1000) # in the absence of noise we use SLSQP\n",
    "    #hist-data\n",
    "    counts = []\n",
    "    values = []\n",
    "    def store_intermediate_result(eval_count, parameters, mean, std):\n",
    "        counts.append(eval_count)\n",
    "        values.append(mean)\n",
    "    vqe = VQE(cirq, optimizer=OPTIMIZER, initial_point=initial_pt, callback=store_intermediate_result, quantum_instance=qi, include_custom=True)\n",
    "    result = vqe.compute_minimum_eigenvalue(operator=Operator)\n",
    "    hist = (values, counts)\n",
    "    return result, hist"
   ]
  },
  {
   "cell_type": "code",
   "execution_count": 55,
   "metadata": {
    "id": "bC-_EmHJJgJt",
    "scrolled": false
   },
   "outputs": [],
   "source": [
    "result, hist = find_E0(H2_op, np.random.uniform(low=0.5, high=2.0, size=(10,)),SLSQP(maxiter=1000))"
   ]
  },
  {
   "cell_type": "code",
   "execution_count": 56,
   "metadata": {
    "colab": {
     "base_uri": "https://localhost:8080/"
    },
    "id": "z0K9UVT1JgJt",
    "outputId": "5eb31c60-c6c3-45cd-bef8-49992dc03773"
   },
   "outputs": [
    {
     "name": "stdout",
     "output_type": "stream",
     "text": [
      "{   'aux_operator_eigenvalues': None,\n",
      "    'cost_function_evals': 215,\n",
      "    'eigenstate': {'01': 1.0},\n",
      "    'eigenvalue': (-1.836967771198845+0j),\n",
      "    'optimal_parameters': {   Parameter(t): 3.32958908299365,\n",
      "                              Parameter($\\psi$): 3.3025369296037814,\n",
      "                              ParameterVectorElement($\\phi$[7]): 0.22044033750834263,\n",
      "                              ParameterVectorElement($\\phi$[6]): 1.5071188228764665,\n",
      "                              ParameterVectorElement($\\phi$[4]): 3.0877834946836447,\n",
      "                              ParameterVectorElement($\\phi$[3]): 1.633945806046649,\n",
      "                              ParameterVectorElement($\\phi$[2]): -0.21966506375893163,\n",
      "                              ParameterVectorElement($\\phi$[5]): 0.4458254286928251,\n",
      "                              ParameterVectorElement($\\phi$[1]): 3.195767253660849,\n",
      "                              ParameterVectorElement($\\phi$[0]): 3.587198658990914},\n",
      "    'optimal_point': array([ 3.58719866,  3.19576725, -0.21966506,  1.63394581,  3.08778349,\n",
      "        0.44582543,  1.50711882,  0.22044034,  3.30253693,  3.32958908]),\n",
      "    'optimal_value': -1.836967771198845,\n",
      "    'optimizer_evals': None,\n",
      "    'optimizer_time': 18.36115598678589}\n"
     ]
    }
   ],
   "source": [
    "print(result)"
   ]
  },
  {
   "cell_type": "code",
   "execution_count": 57,
   "metadata": {
    "colab": {
     "base_uri": "https://localhost:8080/",
     "height": 282
    },
    "id": "bG_KZkIYJgJt",
    "outputId": "7244c908-8e16-4074-c45b-9b37ca80ad5a",
    "scrolled": true
   },
   "outputs": [
    {
     "data": {
      "text/plain": [
       "[<matplotlib.lines.Line2D at 0x7fa73f189c50>]"
      ]
     },
     "execution_count": 57,
     "metadata": {},
     "output_type": "execute_result"
    },
    {
     "data": {
      "image/png": "[encoded data removed]",
      "text/plain": [
       "<Figure size 864x288 with 1 Axes>"
      ]
     },
     "metadata": {
      "needs_background": "light"
     },
     "output_type": "display_data"
    }
   ],
   "source": [
    "values, counts = hist\n",
    "plt.plot(counts, values)"
   ]
  },
  {
   "cell_type": "code",
   "execution_count": 58,
   "metadata": {
    "id": "i-XMKUArJgJu"
   },
   "outputs": [],
   "source": [
    "result, hist = find_E0(LiH_op, np.random.uniform(low=0.5, high=2.0, size=(18,)),SLSQP(maxiter=1000))"
   ]
  },
  {
   "cell_type": "code",
   "execution_count": 59,
   "metadata": {
    "colab": {
     "base_uri": "https://localhost:8080/"
    },
    "id": "vpnvh_HsJgJu",
    "outputId": "5e652b51-0398-4c5b-f773-eea1a243bebb"
   },
   "outputs": [
    {
     "name": "stdout",
     "output_type": "stream",
     "text": [
      "Total_energy:  -7.863146987554577\n",
      "Ref: Total_energy:  -7.863471722862339\n"
     ]
    }
   ],
   "source": [
    "vqe_result = LiH_problem.interpret(result).total_energies[0].real\n",
    "print(\"Total_energy: \", vqe_result)\n",
    "print(\"Ref: Total_energy: \", total_energy_solver(LiH_problem, LiH_converter))"
   ]
  },
  {
   "cell_type": "code",
   "execution_count": 20,
   "metadata": {
    "colab": {
     "base_uri": "https://localhost:8080/"
    },
    "id": "ztHF0-KKJgJu",
    "outputId": "13db7c98-69af-4d59-d2fc-3596edfece91",
    "scrolled": false
   },
   "outputs": [
    {
     "name": "stdout",
     "output_type": "stream",
     "text": [
      "{   'aux_operator_eigenvalues': None,\n",
      "    'cost_function_evals': 479,\n",
      "    'eigenstate': {'0101': 1.0},\n",
      "    'eigenvalue': (-8.890675478764532+0j),\n",
      "    'optimal_parameters': {   Parameter(t): 1.2345761455910085,\n",
      "                              Parameter($\\psi$): 1.2726854086971604,\n",
      "                              ParameterVectorElement($\\phi$[4]): 2.5556863321888916,\n",
      "                              ParameterVectorElement($\\phi$[13]): 0.5858335188012311,\n",
      "                              ParameterVectorElement($\\phi$[10]): 2.0612725566376877,\n",
      "                              ParameterVectorElement($\\phi$[8]): 2.155164905844755,\n",
      "                              ParameterVectorElement($\\phi$[11]): 0.812479439424555,\n",
      "                              ParameterVectorElement($\\phi$[15]): -0.0009586417062160207,\n",
      "                              ParameterVectorElement($\\phi$[9]): 2.0823329551767706,\n",
      "                              ParameterVectorElement($\\phi$[14]): 2.9639372209479578,\n",
      "                              ParameterVectorElement($\\phi$[12]): -0.011971334359183673,\n",
      "                              ParameterVectorElement($\\phi$[5]): 0.010093612733414449,\n",
      "                              ParameterVectorElement($\\phi$[7]): 2.5966103057043846,\n",
      "                              ParameterVectorElement($\\phi$[6]): -0.00022784528026623856,\n",
      "                              ParameterVectorElement($\\phi$[1]): 0.9856925126587556,\n",
      "                              ParameterVectorElement($\\phi$[2]): 0.8110420102763503,\n",
      "                              ParameterVectorElement($\\phi$[0]): 1.059278023965031,\n",
      "                              ParameterVectorElement($\\phi$[3]): 1.0823153532390006},\n",
      "    'optimal_point': array([ 1.05927802e+00,  9.85692513e-01,  8.11042010e-01,  1.08231535e+00,\n",
      "        2.55568633e+00,  1.00936127e-02, -2.27845280e-04,  2.59661031e+00,\n",
      "        2.15516491e+00,  2.08233296e+00,  2.06127256e+00,  8.12479439e-01,\n",
      "       -1.19713344e-02,  5.85833519e-01,  2.96393722e+00, -9.58641706e-04,\n",
      "        1.27268541e+00,  1.23457615e+00]),\n",
      "    'optimal_value': -8.890675478764532,\n",
      "    'optimizer_evals': None,\n",
      "    'optimizer_time': 34.87026238441467}\n"
     ]
    }
   ],
   "source": [
    "print(result)"
   ]
  },
  {
   "cell_type": "code",
   "execution_count": 21,
   "metadata": {
    "colab": {
     "base_uri": "https://localhost:8080/",
     "height": 283
    },
    "id": "valPtfLqJgJu",
    "outputId": "70b59599-ba49-4e25-8ef1-ce43a5da27a4",
    "scrolled": false
   },
   "outputs": [
    {
     "data": {
      "text/plain": [
       "[<matplotlib.lines.Line2D at 0x7fa74247a510>]"
      ]
     },
     "execution_count": 21,
     "metadata": {},
     "output_type": "execute_result"
    },
    {
     "data": {
      "image/png": "[encoded data removed]",
      "text/plain": [
       "<Figure size 432x288 with 1 Axes>"
      ]
     },
     "metadata": {
      "needs_background": "light"
     },
     "output_type": "display_data"
    }
   ],
   "source": [
    "values, counts = hist\n",
    "plt.plot(counts, values)"
   ]
  },
  {
   "cell_type": "code",
   "execution_count": 22,
   "metadata": {
    "id": "l64WzPzeJgJu"
   },
   "outputs": [],
   "source": [
    "result, hist = find_E0(BeH2_op, np.random.uniform(low=0.5, high=2.0, size=(26,)),SLSQP(maxiter=1000))"
   ]
  },
  {
   "cell_type": "code",
   "execution_count": 23,
   "metadata": {
    "colab": {
     "base_uri": "https://localhost:8080/"
    },
    "id": "-gK9j_rqJgJv",
    "outputId": "1c7280f7-8bcd-44b4-dbba-9af060bc8357"
   },
   "outputs": [
    {
     "name": "stdout",
     "output_type": "stream",
     "text": [
      "Total_energy:  -15.561275734008056\n",
      "Ref: Total_energy:  -15.564454586481592\n"
     ]
    }
   ],
   "source": [
    "vqe_result = BeH2_problem.interpret(result).total_energies[0].real\n",
    "print(\"Total_energy: \", vqe_result)\n",
    "print(\"Ref: Total_energy: \", total_energy_solver(BeH2_problem, BeH2_converter))"
   ]
  },
  {
   "cell_type": "code",
   "execution_count": 24,
   "metadata": {
    "colab": {
     "base_uri": "https://localhost:8080/"
    },
    "id": "jFNEhGCNJgJv",
    "outputId": "26d37061-497f-46c2-9b07-d28dbe29c68a",
    "scrolled": false
   },
   "outputs": [
    {
     "name": "stdout",
     "output_type": "stream",
     "text": [
      "{   'aux_operator_eigenvalues': None,\n",
      "    'cost_function_evals': 823,\n",
      "    'eigenstate': {'010101': 1.0},\n",
      "    'eigenvalue': (-19.021280574638826+0j),\n",
      "    'optimal_parameters': {   Parameter(t): 1.4652010547928151,\n",
      "                              Parameter($\\psi$): 1.3376567136221162,\n",
      "                              ParameterVectorElement($\\phi$[6]): -1.1255048327900353e-05,\n",
      "                              ParameterVectorElement($\\phi$[9]): 1.6693503040041324,\n",
      "                              ParameterVectorElement($\\phi$[8]): -0.0030970466303819524,\n",
      "                              ParameterVectorElement($\\phi$[7]): 0.32031229325378724,\n",
      "                              ParameterVectorElement($\\phi$[15]): -0.0030150921428691146,\n",
      "                              ParameterVectorElement($\\phi$[17]): 1.5340162084024227,\n",
      "                              ParameterVectorElement($\\phi$[16]): 2.9047385794233773,\n",
      "                              ParameterVectorElement($\\phi$[13]): -0.0002564539667234127,\n",
      "                              ParameterVectorElement($\\phi$[18]): 0.902849180798874,\n",
      "                              ParameterVectorElement($\\phi$[14]): 0.27485127067237264,\n",
      "                              ParameterVectorElement($\\phi$[10]): 2.7718768832175753,\n",
      "                              ParameterVectorElement($\\phi$[11]): 2.3247312316977395,\n",
      "                              ParameterVectorElement($\\phi$[12]): 1.526697698260112,\n",
      "                              ParameterVectorElement($\\phi$[3]): 0.10609498027066637,\n",
      "                              ParameterVectorElement($\\phi$[2]): 0.003764176782481216,\n",
      "                              ParameterVectorElement($\\phi$[0]): 3.1418346511899777,\n",
      "                              ParameterVectorElement($\\phi$[21]): 3.138665198772243,\n",
      "                              ParameterVectorElement($\\phi$[23]): 2.771339668970987,\n",
      "                              ParameterVectorElement($\\phi$[22]): 3.1729932024449137,\n",
      "                              ParameterVectorElement($\\phi$[20]): 0.9424626504644587,\n",
      "                              ParameterVectorElement($\\phi$[19]): -2.7726833212367166e-06,\n",
      "                              ParameterVectorElement($\\phi$[5]): 1.821907093348775,\n",
      "                              ParameterVectorElement($\\phi$[4]): 1.6069894904702469,\n",
      "                              ParameterVectorElement($\\phi$[1]): 1.2676478810464307},\n",
      "    'optimal_point': array([ 3.14183465e+00,  1.26764788e+00,  3.76417678e-03,  1.06094980e-01,\n",
      "        1.60698949e+00,  1.82190709e+00, -1.12550483e-05,  3.20312293e-01,\n",
      "       -3.09704663e-03,  1.66935030e+00,  2.77187688e+00,  2.32473123e+00,\n",
      "        1.52669770e+00, -2.56453967e-04,  2.74851271e-01, -3.01509214e-03,\n",
      "        2.90473858e+00,  1.53401621e+00,  9.02849181e-01, -2.77268332e-06,\n",
      "        9.42462650e-01,  3.13866520e+00,  3.17299320e+00,  2.77133967e+00,\n",
      "        1.33765671e+00,  1.46520105e+00]),\n",
      "    'optimal_value': -19.021280574638826,\n",
      "    'optimizer_evals': None,\n",
      "    'optimizer_time': 88.13883590698242}\n"
     ]
    }
   ],
   "source": [
    "print(result)"
   ]
  },
  {
   "cell_type": "code",
   "execution_count": 25,
   "metadata": {
    "colab": {
     "base_uri": "https://localhost:8080/",
     "height": 282
    },
    "id": "on-PEjQ2JgJv",
    "outputId": "b7e11a63-7a1e-4ba8-e077-35f2fa6f1f91",
    "scrolled": true
   },
   "outputs": [
    {
     "data": {
      "text/plain": [
       "[<matplotlib.lines.Line2D at 0x7fa742ee6e10>]"
      ]
     },
     "execution_count": 25,
     "metadata": {},
     "output_type": "execute_result"
    },
    {
     "data": {
      "image/png": "[encoded data removed]",
      "text/plain": [
       "<Figure size 432x288 with 1 Axes>"
      ]
     },
     "metadata": {
      "needs_background": "light"
     },
     "output_type": "display_data"
    }
   ],
   "source": [
    "values, counts = hist\n",
    "plt.plot(counts, values)"
   ]
  },
  {
   "cell_type": "code",
   "execution_count": 26,
   "metadata": {
    "ExecuteTime": {
     "end_time": "2022-08-15T06:03:10.104232Z",
     "start_time": "2022-08-15T06:03:09.990348Z"
    },
    "colab": {
     "base_uri": "https://localhost:8080/",
     "height": 140
    },
    "id": "SoMPIpzdJgJv",
    "outputId": "90f031e3-266a-46a4-89b4-c8c1d8391f3e",
    "scrolled": false
   },
   "outputs": [
    {
     "data": {
      "image/png": "[encoded data removed]",
      "text/plain": [
       "<Figure size 507.852x144.48 with 1 Axes>"
      ]
     },
     "execution_count": 26,
     "metadata": {},
     "output_type": "execute_result"
    }
   ],
   "source": [
    "cirq = digital_analog_ansatz_Ising(H2_op,\"staggered\")\n",
    "cirq.draw(output=\"mpl\")"
   ]
  },
  {
   "cell_type": "code",
   "execution_count": 27,
   "metadata": {
    "colab": {
     "base_uri": "https://localhost:8080/",
     "height": 231
    },
    "id": "yZoddU4KJgJv",
    "outputId": "28cf98de-0876-4299-85d5-852ba7d92835"
   },
   "outputs": [
    {
     "data": {
      "image/png": "[encoded data removed]",
      "text/plain": [
       "<Figure size 869.197x264.88 with 1 Axes>"
      ]
     },
     "execution_count": 27,
     "metadata": {},
     "output_type": "execute_result"
    }
   ],
   "source": [
    "cirq = digital_analog_ansatz_Ising(LiH_op,\"staggered\")\n",
    "cirq.draw(output=\"mpl\")"
   ]
  },
  {
   "cell_type": "code",
   "execution_count": 28,
   "metadata": {
    "colab": {
     "base_uri": "https://localhost:8080/",
     "height": 280
    },
    "id": "CWOtPmYEJgJv",
    "outputId": "55054d40-156f-44c2-efc6-57658e072f80",
    "scrolled": false
   },
   "outputs": [
    {
     "data": {
      "image/png": "[encoded data removed]",
      "text/plain": [
       "<Figure size 1230.4x385.28 with 1 Axes>"
      ]
     },
     "execution_count": 28,
     "metadata": {},
     "output_type": "execute_result"
    }
   ],
   "source": [
    "cirq = digital_analog_ansatz_Ising(BeH2_op,\"staggered\")\n",
    "cirq.draw(output=\"mpl\")"
   ]
  },
  {
   "cell_type": "code",
   "execution_count": 29,
   "metadata": {
    "ExecuteTime": {
     "end_time": "2022-08-15T06:03:20.544853Z",
     "start_time": "2022-08-15T06:03:20.500028Z"
    },
    "id": "mabk1F06JgJv",
    "scrolled": false
   },
   "outputs": [],
   "source": [
    "result, hist = find_E0(LiH_op, np.random.uniform(low=0.5, high=2.0, size=(19,)),SLSQP(maxiter=1000),\"staggered\")"
   ]
  },
  {
   "cell_type": "markdown",
   "metadata": {
    "id": "OkgrR32BJgJw"
   },
   "source": [
    "We captured the energy values above during the convergence so we can see what went on in the graph below."
   ]
  },
  {
   "cell_type": "code",
   "execution_count": 30,
   "metadata": {
    "colab": {
     "base_uri": "https://localhost:8080/"
    },
    "id": "x-wbOr-aMiDo",
    "outputId": "4d0784f4-6ae0-4e56-a63f-70497c1cd3bd"
   },
   "outputs": [
    {
     "name": "stdout",
     "output_type": "stream",
     "text": [
      "Total_energy:  -7.863143097586674\n",
      "Ref: Total_energy:  -7.863471722862355\n"
     ]
    }
   ],
   "source": [
    "vqe_result = LiH_problem.interpret(result).total_energies[0].real\n",
    "print(\"Total_energy: \", vqe_result)\n",
    "print(\"Ref: Total_energy: \", total_energy_solver(LiH_problem, LiH_converter))"
   ]
  },
  {
   "cell_type": "code",
   "execution_count": 31,
   "metadata": {
    "colab": {
     "base_uri": "https://localhost:8080/"
    },
    "id": "TY4DoDMkM5dL",
    "outputId": "3a2bfb4e-d62d-4798-eae1-4eee5a0201b9"
   },
   "outputs": [
    {
     "name": "stdout",
     "output_type": "stream",
     "text": [
      "{   'aux_operator_eigenvalues': None,\n",
      "    'cost_function_evals': 507,\n",
      "    'eigenstate': {'0101': 1.0},\n",
      "    'eigenvalue': (-8.890671662479878+0j),\n",
      "    'optimal_parameters': {   ParameterVectorElement($\\phi$[0]): 2.195636415231231,\n",
      "                              ParameterVectorElement($\\psi$[0]): 3.2874042736447673,\n",
      "                              ParameterVectorElement($\\psi$[1]): 2.872391478102905,\n",
      "                              ParameterVectorElement($\\psi$[2]): 1.5623395478959978,\n",
      "                              ParameterVectorElement($\\phi$[15]): 2.851318336359711,\n",
      "                              ParameterVectorElement($\\phi$[14]): -0.024790294613123216,\n",
      "                              ParameterVectorElement($\\phi$[13]): 0.5715680379824032,\n",
      "                              ParameterVectorElement($\\phi$[12]): 1.1144977723619385,\n",
      "                              ParameterVectorElement($\\phi$[7]): 0.015002673352736695,\n",
      "                              ParameterVectorElement($\\phi$[3]): 1.607542007819732,\n",
      "                              ParameterVectorElement($\\phi$[4]): 2.569874109624153,\n",
      "                              ParameterVectorElement($\\phi$[2]): 3.1415290696461637,\n",
      "                              ParameterVectorElement($\\phi$[6]): 2.849822596711956,\n",
      "                              ParameterVectorElement($\\phi$[1]): 3.46694100346076,\n",
      "                              ParameterVectorElement($\\phi$[5]): 1.472436970466789,\n",
      "                              ParameterVectorElement($\\phi$[8]): 3.1079753547731572,\n",
      "                              ParameterVectorElement($\\phi$[9]): 0.9461664853424858,\n",
      "                              ParameterVectorElement($\\phi$[11]): 3.145153635588087,\n",
      "                              ParameterVectorElement($\\phi$[10]): 2.025478838124853},\n",
      "    'optimal_point': array([ 2.19563642,  3.466941  ,  3.14152907,  1.60754201,  2.56987411,\n",
      "        1.47243697,  2.8498226 ,  0.01500267,  3.10797535,  0.94616649,\n",
      "        2.02547884,  3.14515364,  1.11449777,  0.57156804, -0.02479029,\n",
      "        2.85131834,  3.28740427,  2.87239148,  1.56233955]),\n",
      "    'optimal_value': -8.890671662479878,\n",
      "    'optimizer_evals': None,\n",
      "    'optimizer_time': 38.760865688323975}\n"
     ]
    }
   ],
   "source": [
    "print(result)"
   ]
  },
  {
   "cell_type": "code",
   "execution_count": 32,
   "metadata": {
    "id": "hZS_KomMNtP5"
   },
   "outputs": [],
   "source": [
    "result, hist = find_E0(BeH2_op, np.random.uniform(low=0.5, high=2.0, size=(29,)),SLSQP(maxiter=1000),entanglement = \"staggered\")"
   ]
  },
  {
   "cell_type": "code",
   "execution_count": 33,
   "metadata": {
    "colab": {
     "base_uri": "https://localhost:8080/"
    },
    "id": "7PFDP4_7Qo-D",
    "outputId": "5792434a-0d3a-4c54-ca72-4beebe8ddce4"
   },
   "outputs": [
    {
     "name": "stdout",
     "output_type": "stream",
     "text": [
      "Total_energy:  -15.561277108266825\n",
      "Ref: Total_energy:  -15.56445458648155\n"
     ]
    }
   ],
   "source": [
    "vqe_result = BeH2_problem.interpret(result).total_energies[0].real\n",
    "print(\"Total_energy: \", vqe_result)\n",
    "print(\"Ref: Total_energy: \", total_energy_solver(BeH2_problem, BeH2_converter))"
   ]
  },
  {
   "cell_type": "code",
   "execution_count": 60,
   "metadata": {
    "colab": {
     "base_uri": "https://localhost:8080/",
     "height": 282
    },
    "id": "XiuE4QGirbhc",
    "outputId": "a08ae523-8058-4009-f9a3-1ebaeee51dda"
   },
   "outputs": [
    {
     "data": {
      "text/plain": [
       "[<matplotlib.lines.Line2D at 0x7fa73e26f5d0>]"
      ]
     },
     "execution_count": 60,
     "metadata": {},
     "output_type": "execute_result"
    },
    {
     "data": {
      "image/png": "[encoded data removed]",
      "text/plain": [
       "<Figure size 864x288 with 1 Axes>"
      ]
     },
     "metadata": {
      "needs_background": "light"
     },
     "output_type": "display_data"
    }
   ],
   "source": [
    "values, counts = hist\n",
    "plt.plot(counts, values)"
   ]
  }
 ],
 "metadata": {
  "colab": {
   "collapsed_sections": [],
   "name": "Digital-Analog_VQE(Ising).ipynb",
   "provenance": []
  },
  "hide_input": false,
  "kernelspec": {
   "display_name": "Python 3 (ipykernel)",
   "language": "python",
   "name": "python3"
  },
  "language_info": {
   "codemirror_mode": {
    "name": "ipython",
    "version": 3
   },
   "file_extension": ".py",
   "mimetype": "text/x-python",
   "name": "python",
   "nbconvert_exporter": "python",
   "pygments_lexer": "ipython3",
   "version": "3.9.12"
  },
  "nbTranslate": {
   "displayLangs": [
    "*"
   ],
   "hotkey": "alt-t",
   "langInMainMenu": true,
   "sourceLang": "en",
   "targetLang": "fr",
   "useGoogleTranslate": true
  },
  "toc": {
   "base_numbering": 1,
   "nav_menu": {},
   "number_sections": true,
   "sideBar": true,
   "skip_h1_title": false,
   "title_cell": "Table of Contents",
   "title_sidebar": "Contents",
   "toc_cell": false,
   "toc_position": {},
   "toc_section_display": true,
   "toc_window_display": false
  },
  "varInspector": {
   "cols": {
    "lenName": 16,
    "lenType": 16,
    "lenVar": 40
   },
   "kernels_config": {
    "python": {
     "delete_cmd_postfix": "",
     "delete_cmd_prefix": "del ",
     "library": "var_list.py",
     "varRefreshCmd": "print(var_dic_list())"
    },
    "r": {
     "delete_cmd_postfix": ") ",
     "delete_cmd_prefix": "rm(",
     "library": "var_list.r",
     "varRefreshCmd": "cat(var_dic_list()) "
    }
   },
   "types_to_exclude": [
    "module",
    "function",
    "builtin_function_or_method",
    "instance",
    "_Feature"
   ],
   "window_display": false
  },
  "vscode": {
   "interpreter": {
    "hash": "aee8b7b246df8f9039afb4144a1f6fd8d2ca17a180786b69acc140d282b71a49"
   }
  }
 },
 "nbformat": 4,
 "nbformat_minor": 1
}
